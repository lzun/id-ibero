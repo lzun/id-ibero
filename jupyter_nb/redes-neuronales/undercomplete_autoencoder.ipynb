{
  "nbformat": 4,
  "nbformat_minor": 0,
  "metadata": {
    "colab": {
      "name": "undercomplete_autoencoder.ipynb",
      "provenance": []
    },
    "kernelspec": {
      "name": "python3",
      "display_name": "Python 3"
    },
    "language_info": {
      "name": "python"
    }
  },
  "cells": [
    {
      "cell_type": "code",
      "execution_count": null,
      "metadata": {
        "id": "YubaWT0ArYR6"
      },
      "outputs": [],
      "source": [
        "from tensorflow import keras\n",
        "from sklearn.datasets import make_classification\n",
        "from sklearn.model_selection import train_test_split\n",
        "from sklearn.decomposition import PCA\n",
        "import matplotlib.pyplot as plt"
      ]
    },
    {
      "cell_type": "markdown",
      "source": [
        "Creamos la red neuronal que es el autencoder."
      ],
      "metadata": {
        "id": "_blxktYdulia"
      }
    },
    {
      "cell_type": "code",
      "source": [
        "encoder = keras.models.Sequential([keras.layers.Dense(2, input_shape=[3])])\n",
        "decoder = keras.models.Sequential([keras.layers.Dense(3, input_shape=[2])])\n",
        "autoencoder = keras.models.Sequential([encoder, decoder])"
      ],
      "metadata": {
        "id": "_0Mf0xNwrftG"
      },
      "execution_count": null,
      "outputs": []
    },
    {
      "cell_type": "code",
      "source": [
        "autoencoder.compile(loss='mse', optimizer = keras.optimizers.SGD(learning_rate=0.1))"
      ],
      "metadata": {
        "id": "Sc50Ek98r9Ub"
      },
      "execution_count": null,
      "outputs": []
    },
    {
      "cell_type": "markdown",
      "source": [
        "Creamos los datos para realizar la reducción de dimensionalidad."
      ],
      "metadata": {
        "id": "6VaMB24eurqh"
      }
    },
    {
      "cell_type": "code",
      "source": [
        "X, y = make_classification(n_samples=100, n_features=3, n_informative=2, n_redundant=1)"
      ],
      "metadata": {
        "id": "tnizEn6TsrzU"
      },
      "execution_count": null,
      "outputs": []
    },
    {
      "cell_type": "code",
      "source": [
        "history = autoencoder.fit(X, X, epochs = 20)"
      ],
      "metadata": {
        "colab": {
          "base_uri": "https://localhost:8080/"
        },
        "id": "_Sqo_FtHta3J",
        "outputId": "599bdd29-5256-452d-9b2d-ee507a190a73"
      },
      "execution_count": null,
      "outputs": [
        {
          "output_type": "stream",
          "name": "stdout",
          "text": [
            "Epoch 1/20\n",
            "4/4 [==============================] - 1s 6ms/step - loss: 0.8114\n",
            "Epoch 2/20\n",
            "4/4 [==============================] - 0s 4ms/step - loss: 0.6087\n",
            "Epoch 3/20\n",
            "4/4 [==============================] - 0s 6ms/step - loss: 0.5346\n",
            "Epoch 4/20\n",
            "4/4 [==============================] - 0s 5ms/step - loss: 0.4552\n",
            "Epoch 5/20\n",
            "4/4 [==============================] - 0s 4ms/step - loss: 0.3651\n",
            "Epoch 6/20\n",
            "4/4 [==============================] - 0s 4ms/step - loss: 0.2437\n",
            "Epoch 7/20\n",
            "4/4 [==============================] - 0s 8ms/step - loss: 0.1348\n",
            "Epoch 8/20\n",
            "4/4 [==============================] - 0s 4ms/step - loss: 0.0606\n",
            "Epoch 9/20\n",
            "4/4 [==============================] - 0s 4ms/step - loss: 0.0254\n",
            "Epoch 10/20\n",
            "4/4 [==============================] - 0s 3ms/step - loss: 0.0112\n",
            "Epoch 11/20\n",
            "4/4 [==============================] - 0s 5ms/step - loss: 0.0051\n",
            "Epoch 12/20\n",
            "4/4 [==============================] - 0s 5ms/step - loss: 0.0026\n",
            "Epoch 13/20\n",
            "4/4 [==============================] - 0s 2ms/step - loss: 0.0014\n",
            "Epoch 14/20\n",
            "4/4 [==============================] - 0s 3ms/step - loss: 8.6795e-04\n",
            "Epoch 15/20\n",
            "4/4 [==============================] - 0s 5ms/step - loss: 5.3196e-04\n",
            "Epoch 16/20\n",
            "4/4 [==============================] - 0s 3ms/step - loss: 3.2776e-04\n",
            "Epoch 17/20\n",
            "4/4 [==============================] - 0s 11ms/step - loss: 2.2418e-04\n",
            "Epoch 18/20\n",
            "4/4 [==============================] - 0s 7ms/step - loss: 1.4288e-04\n",
            "Epoch 19/20\n",
            "4/4 [==============================] - 0s 8ms/step - loss: 9.4995e-05\n",
            "Epoch 20/20\n",
            "4/4 [==============================] - 0s 6ms/step - loss: 6.4510e-05\n"
          ]
        }
      ]
    },
    {
      "cell_type": "code",
      "source": [
        "codings = encoder.predict(X)"
      ],
      "metadata": {
        "id": "fHzsY9fytpqL"
      },
      "execution_count": null,
      "outputs": []
    },
    {
      "cell_type": "code",
      "source": [
        "plt.figure(figsize=(8, 8))\n",
        "plt.scatter(codings[:, 0], codings[:, 1], marker=\"o\", s=25, edgecolor=\"k\")"
      ],
      "metadata": {
        "id": "AEQclf2Yv0b5",
        "outputId": "b2ec4ddd-a3f7-47a5-8463-d3391d73478b",
        "colab": {
          "base_uri": "https://localhost:8080/",
          "height": 501
        }
      },
      "execution_count": null,
      "outputs": [
        {
          "output_type": "execute_result",
          "data": {
            "text/plain": [
              "<matplotlib.collections.PathCollection at 0x7f8950527410>"
            ]
          },
          "metadata": {},
          "execution_count": 7
        },
        {
          "output_type": "display_data",
          "data": {
            "text/plain": [
              "<Figure size 576x576 with 1 Axes>"
            ],
            "image/png": "[encoded data removed]"
          },
          "metadata": {
            "needs_background": "light"
          }
        }
      ]
    },
    {
      "cell_type": "markdown",
      "source": [
        "Ahora, hacemos PCA."
      ],
      "metadata": {
        "id": "goyTn6Dvuw6S"
      }
    },
    {
      "cell_type": "code",
      "source": [
        "pca = PCA(n_components=2)\n",
        "pca.fit(X)\n",
        "X = pca.transform(X)"
      ],
      "metadata": {
        "id": "vY9v0BcqvCNO"
      },
      "execution_count": null,
      "outputs": []
    },
    {
      "cell_type": "code",
      "source": [
        "plt.figure(figsize=(8, 8))\n",
        "ae_plt = plt.scatter(codings[:, 0], codings[:, 1], marker=\"o\", s=25, edgecolor=\"k\")\n",
        "pca_plt = plt.scatter(X[:, 0], X[:, 1], marker=\"o\", s=25, edgecolor=\"k\")\n",
        "plt.legend((ae_plt, pca_plt),\n",
        "           ('Autoencoder', 'PCA'),\n",
        "           scatterpoints=1,\n",
        "           loc='lower left',\n",
        "           ncol=3,\n",
        "           fontsize=8)"
      ],
      "metadata": {
        "colab": {
          "base_uri": "https://localhost:8080/",
          "height": 501
        },
        "id": "C0BOPa0Zt76w",
        "outputId": "ccce5af2-2da1-4d35-dfde-c7125f386e7f"
      },
      "execution_count": null,
      "outputs": [
        {
          "output_type": "execute_result",
          "data": {
            "text/plain": [
              "<matplotlib.legend.Legend at 0x7f89517b49d0>"
            ]
          },
          "metadata": {},
          "execution_count": 9
        },
        {
          "output_type": "display_data",
          "data": {
            "text/plain": [
              "<Figure size 576x576 with 1 Axes>"
            ],
            "image/png": "[encoded data removed]"
          },
          "metadata": {
            "needs_background": "light"
          }
        }
      ]
    }
  ]
}