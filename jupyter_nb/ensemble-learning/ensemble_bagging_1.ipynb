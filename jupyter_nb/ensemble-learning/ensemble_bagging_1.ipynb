{
  "nbformat": 4,
  "nbformat_minor": 0,
  "metadata": {
    "colab": {
      "name": "ensemble_bagging_1.ipynb",
      "provenance": []
    },
    "kernelspec": {
      "name": "python3",
      "display_name": "Python 3"
    },
    "language_info": {
      "name": "python"
    }
  },
  "cells": [
    {
      "cell_type": "markdown",
      "source": [
        "https://scikit-learn.org/stable/modules/generated/sklearn.ensemble.BaggingClassifier.html"
      ],
      "metadata": {
        "id": "3EThL91ZLgfq"
      }
    },
    {
      "cell_type": "code",
      "execution_count": null,
      "metadata": {
        "id": "MVgMj6YsI5Cl"
      },
      "outputs": [],
      "source": [
        "from sklearn.datasets import make_classification\n",
        "from numpy import mean\n",
        "from numpy import std\n",
        "from sklearn.model_selection import cross_val_score\n",
        "from sklearn.model_selection import RepeatedStratifiedKFold\n",
        "from sklearn.ensemble import BaggingClassifier"
      ]
    },
    {
      "cell_type": "markdown",
      "source": [
        "Construimos un conjunto de datos sintético por medio de la función `make_classification`. En este caso, creamos 1000 ejemplos cada uno con 20 características."
      ],
      "metadata": {
        "id": "qjeyjXa_JYhx"
      }
    },
    {
      "cell_type": "code",
      "source": [
        "X, y = make_classification(n_samples=10000, n_features=20, n_informative=15, n_redundant=5, random_state=5)\n",
        "# evaluate the model"
      ],
      "metadata": {
        "id": "3bqzbXAfKKoy"
      },
      "execution_count": null,
      "outputs": []
    },
    {
      "cell_type": "markdown",
      "source": [
        "Iniciamos el ensamble. Para este programa, vamos a utlizar validación cruzada estratificada "
      ],
      "metadata": {
        "id": "2q5gzGW2KZb0"
      }
    },
    {
      "cell_type": "code",
      "source": [
        "clf = BaggingClassifier()"
      ],
      "metadata": {
        "id": "icuPSXqoKy7D"
      },
      "execution_count": null,
      "outputs": []
    },
    {
      "cell_type": "code",
      "source": [
        "cv = RepeatedStratifiedKFold(n_splits=10, n_repeats=3, random_state=1)\n",
        "n_scores = cross_val_score(clf, X, y, scoring='accuracy', cv=cv, n_jobs=-1, error_score='raise')\n",
        "print(n_scores)\n",
        "print('Accuracy: %.3f (%.3f)' % (mean(n_scores), std(n_scores)))"
      ],
      "metadata": {
        "colab": {
          "base_uri": "https://localhost:8080/"
        },
        "id": "s49buahHK1q1",
        "outputId": "ba001101-90bb-4345-ee75-36539c598b84"
      },
      "execution_count": null,
      "outputs": [
        {
          "output_type": "stream",
          "name": "stdout",
          "text": [
            "[0.93  0.917 0.918 0.921 0.928 0.927 0.932 0.929 0.91  0.937 0.925 0.923\n",
            " 0.937 0.923 0.929 0.928 0.931 0.917 0.923 0.919 0.921 0.915 0.932 0.918\n",
            " 0.929 0.93  0.93  0.945 0.927 0.92 ]\n",
            "Accuracy: 0.926 (0.007)\n"
          ]
        }
      ]
    }
  ]
}