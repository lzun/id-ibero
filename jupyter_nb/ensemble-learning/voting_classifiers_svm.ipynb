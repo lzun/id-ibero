{
  "nbformat": 4,
  "nbformat_minor": 0,
  "metadata": {
    "colab": {
      "name": "voting_classifiers_svm.ipynb",
      "provenance": []
    },
    "kernelspec": {
      "name": "python3",
      "display_name": "Python 3"
    },
    "language_info": {
      "name": "python"
    }
  },
  "cells": [
    {
      "cell_type": "code",
      "execution_count": null,
      "metadata": {
        "id": "lLFolcNlBgP5"
      },
      "outputs": [],
      "source": [
        "from numpy import mean\n",
        "from numpy import std\n",
        "from sklearn.datasets import make_classification\n",
        "from sklearn.model_selection import cross_val_score\n",
        "from sklearn.model_selection import RepeatedStratifiedKFold\n",
        "from sklearn.svm import SVC\n",
        "from sklearn.ensemble import VotingClassifier\n",
        "from matplotlib import pyplot"
      ]
    },
    {
      "cell_type": "code",
      "source": [
        "def get_dataset():\n",
        "\tX, y = make_classification(n_samples=1000, n_features=20, n_informative=15, n_redundant=5, random_state=2)\n",
        "\treturn X, y"
      ],
      "metadata": {
        "id": "PEIKy14JBj--"
      },
      "execution_count": null,
      "outputs": []
    },
    {
      "cell_type": "code",
      "source": [
        "def get_voting():\n",
        "\t# define the base models\n",
        "\tmodels = list()\n",
        "\tmodels.append(('svm1', SVC(probability=True, kernel='poly', degree=1)))\n",
        "\tmodels.append(('svm2', SVC(probability=True, kernel='poly', degree=2)))\n",
        "\tmodels.append(('svm3', SVC(probability=True, kernel='poly', degree=3)))\n",
        "\tmodels.append(('svm4', SVC(probability=True, kernel='poly', degree=4)))\n",
        "\tmodels.append(('svm5', SVC(probability=True, kernel='poly', degree=5)))\n",
        "\t# define the voting ensemble\n",
        "\tensemble = VotingClassifier(estimators=models, voting='soft')\n",
        "\treturn ensemble"
      ],
      "metadata": {
        "id": "L84MxL0cCUAi"
      },
      "execution_count": null,
      "outputs": []
    },
    {
      "cell_type": "code",
      "source": [
        "def get_models():\n",
        "\tmodels = dict()\n",
        "\tmodels['svm1'] = SVC(probability=True, kernel='poly', degree=1)\n",
        "\tmodels['svm2'] = SVC(probability=True, kernel='poly', degree=2)\n",
        "\tmodels['svm3'] = SVC(probability=True, kernel='poly', degree=3)\n",
        "\tmodels['svm4'] = SVC(probability=True, kernel='poly', degree=4)\n",
        "\tmodels['svm5'] = SVC(probability=True, kernel='poly', degree=5)\n",
        "\tmodels['soft_voting'] = get_voting()\n",
        "\treturn models"
      ],
      "metadata": {
        "id": "lL7ld29GCler"
      },
      "execution_count": null,
      "outputs": []
    },
    {
      "cell_type": "code",
      "source": [
        "def evaluate_model(model, X, y):\n",
        "\tcv = RepeatedStratifiedKFold(n_splits=10, n_repeats=3, random_state=1)\n",
        "\tscores = cross_val_score(model, X, y, scoring='accuracy', cv=cv, n_jobs=-1, error_score='raise')\n",
        "\treturn scores"
      ],
      "metadata": {
        "id": "EkMO3s7uCYNa"
      },
      "execution_count": null,
      "outputs": []
    },
    {
      "cell_type": "code",
      "source": [
        "X, y = get_dataset()\n",
        "# get the models to evaluate\n",
        "models = get_models()\n",
        "# evaluate the models and store results\n",
        "results, names = list(), list()\n",
        "for name, model in models.items():\n",
        "\tscores = evaluate_model(model, X, y)\n",
        "\tresults.append(scores)\n",
        "\tnames.append(name)\n",
        "\tprint('>%s %.3f (%.3f)' % (name, mean(scores), std(scores)))\n",
        "# plot model performance for comparison\n",
        "pyplot.boxplot(results, labels=names, showmeans=True)\n",
        "pyplot.show()"
      ],
      "metadata": {
        "colab": {
          "base_uri": "https://localhost:8080/",
          "height": 375
        },
        "id": "wZXsncosCana",
        "outputId": "716d535f-8ec6-497d-a26a-8ffe2a5a9d68"
      },
      "execution_count": null,
      "outputs": [
        {
          "output_type": "stream",
          "name": "stdout",
          "text": [
            ">svm1 0.855 (0.035)\n",
            ">svm2 0.859 (0.034)\n",
            ">svm3 0.890 (0.035)\n",
            ">svm4 0.808 (0.037)\n",
            ">svm5 0.850 (0.037)\n",
            ">soft_voting 0.923 (0.026)\n"
          ]
        },
        {
          "output_type": "display_data",
          "data": {
            "image/png": "[encoded data removed]",
            "text/plain": [
              "<Figure size 432x288 with 1 Axes>"
            ]
          },
          "metadata": {
            "needs_background": "light"
          }
        }
      ]
    }
  ]
}