{
  "nbformat": 4,
  "nbformat_minor": 0,
  "metadata": {
    "colab": {
      "name": "adaboost-gridsearch.ipynb",
      "provenance": []
    },
    "kernelspec": {
      "name": "python3",
      "display_name": "Python 3"
    },
    "language_info": {
      "name": "python"
    }
  },
  "cells": [
    {
      "cell_type": "code",
      "source": [
        "from sklearn.datasets import make_classification\n",
        "from sklearn.model_selection import RepeatedStratifiedKFold\n",
        "from sklearn.model_selection import GridSearchCV\n",
        "from sklearn.ensemble import AdaBoostClassifier\n",
        "from sklearn.tree import DecisionTreeClassifier"
      ],
      "metadata": {
        "id": "Id9by-9wMxMq"
      },
      "execution_count": 6,
      "outputs": []
    },
    {
      "cell_type": "code",
      "source": [
        "X, y = make_classification(n_samples=1000, n_features=20, n_informative=15, n_redundant=5, random_state=6)"
      ],
      "metadata": {
        "id": "FMmUK25lM3ph"
      },
      "execution_count": 3,
      "outputs": []
    },
    {
      "cell_type": "code",
      "source": [
        "model = AdaBoostClassifier()"
      ],
      "metadata": {
        "id": "Q9qpn7xtM59p"
      },
      "execution_count": 4,
      "outputs": []
    },
    {
      "cell_type": "code",
      "execution_count": 10,
      "metadata": {
        "id": "1mB2KFFJMpvX"
      },
      "outputs": [],
      "source": [
        "grid = dict()\n",
        "grid['n_estimators'] = [10, 50, 100, 500]\n",
        "grid['learning_rate'] = [0.0001, 0.001, 0.01, 0.1, 1.0]\n",
        "grid['base_estimator'] = [DecisionTreeClassifier(max_depth=1), DecisionTreeClassifier(max_depth=2), DecisionTreeClassifier(max_depth=4), DecisionTreeClassifier(max_depth=6), DecisionTreeClassifier(max_depth=8), DecisionTreeClassifier(max_depth=9)]"
      ]
    },
    {
      "cell_type": "code",
      "source": [
        "cv = RepeatedStratifiedKFold(n_splits=10, n_repeats=3, random_state=1)\n",
        "grid_search = GridSearchCV(estimator=model, param_grid=grid, n_jobs=-1, cv=cv, scoring='accuracy')\n",
        "grid_result = grid_search.fit(X, y)\n",
        "print(\"Best: %f using %s\" % (grid_result.best_score_, grid_result.best_params_))\n",
        "means = grid_result.cv_results_['mean_test_score']\n",
        "stds = grid_result.cv_results_['std_test_score']\n",
        "params = grid_result.cv_results_['params']\n",
        "for mean, stdev, param in zip(means, stds, params):\n",
        "    print(\"%f (%f) with: %r\" % (mean, stdev, param))"
      ],
      "metadata": {
        "colab": {
          "base_uri": "https://localhost:8080/"
        },
        "id": "lhNDmGclM9M5",
        "outputId": "60182786-78cf-477a-ac0e-538546396bf9"
      },
      "execution_count": 11,
      "outputs": [
        {
          "output_type": "stream",
          "name": "stdout",
          "text": [
            "Best: 0.955000 using {'base_estimator': DecisionTreeClassifier(max_depth=8), 'learning_rate': 1.0, 'n_estimators': 500}\n",
            "0.646333 (0.036376) with: {'base_estimator': DecisionTreeClassifier(max_depth=1), 'learning_rate': 0.0001, 'n_estimators': 10}\n",
            "0.646667 (0.036545) with: {'base_estimator': DecisionTreeClassifier(max_depth=1), 'learning_rate': 0.0001, 'n_estimators': 50}\n",
            "0.646667 (0.036545) with: {'base_estimator': DecisionTreeClassifier(max_depth=1), 'learning_rate': 0.0001, 'n_estimators': 100}\n",
            "0.647000 (0.038136) with: {'base_estimator': DecisionTreeClassifier(max_depth=1), 'learning_rate': 0.0001, 'n_estimators': 500}\n",
            "0.646667 (0.036545) with: {'base_estimator': DecisionTreeClassifier(max_depth=1), 'learning_rate': 0.001, 'n_estimators': 10}\n",
            "0.647000 (0.038136) with: {'base_estimator': DecisionTreeClassifier(max_depth=1), 'learning_rate': 0.001, 'n_estimators': 50}\n",
            "0.654333 (0.045511) with: {'base_estimator': DecisionTreeClassifier(max_depth=1), 'learning_rate': 0.001, 'n_estimators': 100}\n",
            "0.672667 (0.046543) with: {'base_estimator': DecisionTreeClassifier(max_depth=1), 'learning_rate': 0.001, 'n_estimators': 500}\n",
            "0.648333 (0.042197) with: {'base_estimator': DecisionTreeClassifier(max_depth=1), 'learning_rate': 0.01, 'n_estimators': 10}\n",
            "0.671667 (0.045613) with: {'base_estimator': DecisionTreeClassifier(max_depth=1), 'learning_rate': 0.01, 'n_estimators': 50}\n",
            "0.715000 (0.053213) with: {'base_estimator': DecisionTreeClassifier(max_depth=1), 'learning_rate': 0.01, 'n_estimators': 100}\n",
            "0.767667 (0.045948) with: {'base_estimator': DecisionTreeClassifier(max_depth=1), 'learning_rate': 0.01, 'n_estimators': 500}\n",
            "0.716667 (0.048876) with: {'base_estimator': DecisionTreeClassifier(max_depth=1), 'learning_rate': 0.1, 'n_estimators': 10}\n",
            "0.767000 (0.049271) with: {'base_estimator': DecisionTreeClassifier(max_depth=1), 'learning_rate': 0.1, 'n_estimators': 50}\n",
            "0.784667 (0.042874) with: {'base_estimator': DecisionTreeClassifier(max_depth=1), 'learning_rate': 0.1, 'n_estimators': 100}\n",
            "0.813667 (0.032092) with: {'base_estimator': DecisionTreeClassifier(max_depth=1), 'learning_rate': 0.1, 'n_estimators': 500}\n",
            "0.773333 (0.038759) with: {'base_estimator': DecisionTreeClassifier(max_depth=1), 'learning_rate': 1.0, 'n_estimators': 10}\n",
            "0.806333 (0.040701) with: {'base_estimator': DecisionTreeClassifier(max_depth=1), 'learning_rate': 1.0, 'n_estimators': 50}\n",
            "0.801000 (0.032491) with: {'base_estimator': DecisionTreeClassifier(max_depth=1), 'learning_rate': 1.0, 'n_estimators': 100}\n",
            "0.792667 (0.027560) with: {'base_estimator': DecisionTreeClassifier(max_depth=1), 'learning_rate': 1.0, 'n_estimators': 500}\n",
            "0.703667 (0.049361) with: {'base_estimator': DecisionTreeClassifier(max_depth=2), 'learning_rate': 0.0001, 'n_estimators': 10}\n",
            "0.702333 (0.049979) with: {'base_estimator': DecisionTreeClassifier(max_depth=2), 'learning_rate': 0.0001, 'n_estimators': 50}\n",
            "0.702333 (0.049979) with: {'base_estimator': DecisionTreeClassifier(max_depth=2), 'learning_rate': 0.0001, 'n_estimators': 100}\n",
            "0.701333 (0.049648) with: {'base_estimator': DecisionTreeClassifier(max_depth=2), 'learning_rate': 0.0001, 'n_estimators': 500}\n",
            "0.702333 (0.049979) with: {'base_estimator': DecisionTreeClassifier(max_depth=2), 'learning_rate': 0.001, 'n_estimators': 10}\n",
            "0.701333 (0.049648) with: {'base_estimator': DecisionTreeClassifier(max_depth=2), 'learning_rate': 0.001, 'n_estimators': 50}\n",
            "0.707667 (0.057195) with: {'base_estimator': DecisionTreeClassifier(max_depth=2), 'learning_rate': 0.001, 'n_estimators': 100}\n",
            "0.763667 (0.038771) with: {'base_estimator': DecisionTreeClassifier(max_depth=2), 'learning_rate': 0.001, 'n_estimators': 500}\n",
            "0.704000 (0.052890) with: {'base_estimator': DecisionTreeClassifier(max_depth=2), 'learning_rate': 0.01, 'n_estimators': 10}\n",
            "0.763667 (0.038513) with: {'base_estimator': DecisionTreeClassifier(max_depth=2), 'learning_rate': 0.01, 'n_estimators': 50}\n",
            "0.778333 (0.044127) with: {'base_estimator': DecisionTreeClassifier(max_depth=2), 'learning_rate': 0.01, 'n_estimators': 100}\n",
            "0.829333 (0.036142) with: {'base_estimator': DecisionTreeClassifier(max_depth=2), 'learning_rate': 0.01, 'n_estimators': 500}\n",
            "0.781667 (0.038217) with: {'base_estimator': DecisionTreeClassifier(max_depth=2), 'learning_rate': 0.1, 'n_estimators': 10}\n",
            "0.828333 (0.038304) with: {'base_estimator': DecisionTreeClassifier(max_depth=2), 'learning_rate': 0.1, 'n_estimators': 50}\n",
            "0.845667 (0.031271) with: {'base_estimator': DecisionTreeClassifier(max_depth=2), 'learning_rate': 0.1, 'n_estimators': 100}\n",
            "0.882000 (0.022420) with: {'base_estimator': DecisionTreeClassifier(max_depth=2), 'learning_rate': 0.1, 'n_estimators': 500}\n",
            "0.818667 (0.038534) with: {'base_estimator': DecisionTreeClassifier(max_depth=2), 'learning_rate': 1.0, 'n_estimators': 10}\n",
            "0.863667 (0.027986) with: {'base_estimator': DecisionTreeClassifier(max_depth=2), 'learning_rate': 1.0, 'n_estimators': 50}\n",
            "0.876000 (0.032517) with: {'base_estimator': DecisionTreeClassifier(max_depth=2), 'learning_rate': 1.0, 'n_estimators': 100}\n",
            "0.910667 (0.023795) with: {'base_estimator': DecisionTreeClassifier(max_depth=2), 'learning_rate': 1.0, 'n_estimators': 500}\n",
            "0.763667 (0.028923) with: {'base_estimator': DecisionTreeClassifier(max_depth=4), 'learning_rate': 0.0001, 'n_estimators': 10}\n",
            "0.766667 (0.028441) with: {'base_estimator': DecisionTreeClassifier(max_depth=4), 'learning_rate': 0.0001, 'n_estimators': 50}\n",
            "0.767667 (0.028010) with: {'base_estimator': DecisionTreeClassifier(max_depth=4), 'learning_rate': 0.0001, 'n_estimators': 100}\n",
            "0.773000 (0.030238) with: {'base_estimator': DecisionTreeClassifier(max_depth=4), 'learning_rate': 0.0001, 'n_estimators': 500}\n",
            "0.767333 (0.029204) with: {'base_estimator': DecisionTreeClassifier(max_depth=4), 'learning_rate': 0.001, 'n_estimators': 10}\n",
            "0.773667 (0.031143) with: {'base_estimator': DecisionTreeClassifier(max_depth=4), 'learning_rate': 0.001, 'n_estimators': 50}\n",
            "0.772000 (0.033705) with: {'base_estimator': DecisionTreeClassifier(max_depth=4), 'learning_rate': 0.001, 'n_estimators': 100}\n",
            "0.784667 (0.036764) with: {'base_estimator': DecisionTreeClassifier(max_depth=4), 'learning_rate': 0.001, 'n_estimators': 500}\n",
            "0.771000 (0.037448) with: {'base_estimator': DecisionTreeClassifier(max_depth=4), 'learning_rate': 0.01, 'n_estimators': 10}\n",
            "0.786000 (0.035833) with: {'base_estimator': DecisionTreeClassifier(max_depth=4), 'learning_rate': 0.01, 'n_estimators': 50}\n",
            "0.813667 (0.041911) with: {'base_estimator': DecisionTreeClassifier(max_depth=4), 'learning_rate': 0.01, 'n_estimators': 100}\n",
            "0.866333 (0.040372) with: {'base_estimator': DecisionTreeClassifier(max_depth=4), 'learning_rate': 0.01, 'n_estimators': 500}\n",
            "0.803000 (0.042829) with: {'base_estimator': DecisionTreeClassifier(max_depth=4), 'learning_rate': 0.1, 'n_estimators': 10}\n",
            "0.854667 (0.029409) with: {'base_estimator': DecisionTreeClassifier(max_depth=4), 'learning_rate': 0.1, 'n_estimators': 50}\n",
            "0.888333 (0.024911) with: {'base_estimator': DecisionTreeClassifier(max_depth=4), 'learning_rate': 0.1, 'n_estimators': 100}\n",
            "0.919333 (0.027317) with: {'base_estimator': DecisionTreeClassifier(max_depth=4), 'learning_rate': 0.1, 'n_estimators': 500}\n",
            "0.825667 (0.040471) with: {'base_estimator': DecisionTreeClassifier(max_depth=4), 'learning_rate': 1.0, 'n_estimators': 10}\n",
            "0.899000 (0.032388) with: {'base_estimator': DecisionTreeClassifier(max_depth=4), 'learning_rate': 1.0, 'n_estimators': 50}\n",
            "0.912667 (0.026323) with: {'base_estimator': DecisionTreeClassifier(max_depth=4), 'learning_rate': 1.0, 'n_estimators': 100}\n",
            "0.951000 (0.017388) with: {'base_estimator': DecisionTreeClassifier(max_depth=4), 'learning_rate': 1.0, 'n_estimators': 500}\n",
            "0.791333 (0.030630) with: {'base_estimator': DecisionTreeClassifier(max_depth=6), 'learning_rate': 0.0001, 'n_estimators': 10}\n",
            "0.788667 (0.032633) with: {'base_estimator': DecisionTreeClassifier(max_depth=6), 'learning_rate': 0.0001, 'n_estimators': 50}\n",
            "0.786667 (0.029250) with: {'base_estimator': DecisionTreeClassifier(max_depth=6), 'learning_rate': 0.0001, 'n_estimators': 100}\n",
            "0.797667 (0.034898) with: {'base_estimator': DecisionTreeClassifier(max_depth=6), 'learning_rate': 0.0001, 'n_estimators': 500}\n",
            "0.786333 (0.032196) with: {'base_estimator': DecisionTreeClassifier(max_depth=6), 'learning_rate': 0.001, 'n_estimators': 10}\n",
            "0.795000 (0.039896) with: {'base_estimator': DecisionTreeClassifier(max_depth=6), 'learning_rate': 0.001, 'n_estimators': 50}\n",
            "0.798333 (0.038391) with: {'base_estimator': DecisionTreeClassifier(max_depth=6), 'learning_rate': 0.001, 'n_estimators': 100}\n",
            "0.814333 (0.043411) with: {'base_estimator': DecisionTreeClassifier(max_depth=6), 'learning_rate': 0.001, 'n_estimators': 500}\n",
            "0.808667 (0.037571) with: {'base_estimator': DecisionTreeClassifier(max_depth=6), 'learning_rate': 0.01, 'n_estimators': 10}\n",
            "0.817667 (0.045290) with: {'base_estimator': DecisionTreeClassifier(max_depth=6), 'learning_rate': 0.01, 'n_estimators': 50}\n",
            "0.825667 (0.033831) with: {'base_estimator': DecisionTreeClassifier(max_depth=6), 'learning_rate': 0.01, 'n_estimators': 100}\n",
            "0.844000 (0.037381) with: {'base_estimator': DecisionTreeClassifier(max_depth=6), 'learning_rate': 0.01, 'n_estimators': 500}\n",
            "0.805000 (0.038622) with: {'base_estimator': DecisionTreeClassifier(max_depth=6), 'learning_rate': 0.1, 'n_estimators': 10}\n",
            "0.847333 (0.031826) with: {'base_estimator': DecisionTreeClassifier(max_depth=6), 'learning_rate': 0.1, 'n_estimators': 50}\n",
            "0.854000 (0.041118) with: {'base_estimator': DecisionTreeClassifier(max_depth=6), 'learning_rate': 0.1, 'n_estimators': 100}\n",
            "0.875333 (0.038879) with: {'base_estimator': DecisionTreeClassifier(max_depth=6), 'learning_rate': 0.1, 'n_estimators': 500}\n",
            "0.842000 (0.034487) with: {'base_estimator': DecisionTreeClassifier(max_depth=6), 'learning_rate': 1.0, 'n_estimators': 10}\n",
            "0.923000 (0.022971) with: {'base_estimator': DecisionTreeClassifier(max_depth=6), 'learning_rate': 1.0, 'n_estimators': 50}\n",
            "0.942667 (0.021592) with: {'base_estimator': DecisionTreeClassifier(max_depth=6), 'learning_rate': 1.0, 'n_estimators': 100}\n",
            "0.950667 (0.019989) with: {'base_estimator': DecisionTreeClassifier(max_depth=6), 'learning_rate': 1.0, 'n_estimators': 500}\n",
            "0.792000 (0.035251) with: {'base_estimator': DecisionTreeClassifier(max_depth=8), 'learning_rate': 0.0001, 'n_estimators': 10}\n",
            "0.794000 (0.035926) with: {'base_estimator': DecisionTreeClassifier(max_depth=8), 'learning_rate': 0.0001, 'n_estimators': 50}\n",
            "0.789333 (0.029204) with: {'base_estimator': DecisionTreeClassifier(max_depth=8), 'learning_rate': 0.0001, 'n_estimators': 100}\n",
            "0.800333 (0.036559) with: {'base_estimator': DecisionTreeClassifier(max_depth=8), 'learning_rate': 0.0001, 'n_estimators': 500}\n",
            "0.789000 (0.034578) with: {'base_estimator': DecisionTreeClassifier(max_depth=8), 'learning_rate': 0.001, 'n_estimators': 10}\n",
            "0.798000 (0.035062) with: {'base_estimator': DecisionTreeClassifier(max_depth=8), 'learning_rate': 0.001, 'n_estimators': 50}\n",
            "0.799667 (0.039538) with: {'base_estimator': DecisionTreeClassifier(max_depth=8), 'learning_rate': 0.001, 'n_estimators': 100}\n",
            "0.813333 (0.035150) with: {'base_estimator': DecisionTreeClassifier(max_depth=8), 'learning_rate': 0.001, 'n_estimators': 500}\n",
            "0.806000 (0.034699) with: {'base_estimator': DecisionTreeClassifier(max_depth=8), 'learning_rate': 0.01, 'n_estimators': 10}\n",
            "0.809000 (0.046501) with: {'base_estimator': DecisionTreeClassifier(max_depth=8), 'learning_rate': 0.01, 'n_estimators': 50}\n",
            "0.820000 (0.039581) with: {'base_estimator': DecisionTreeClassifier(max_depth=8), 'learning_rate': 0.01, 'n_estimators': 100}\n",
            "0.832667 (0.032857) with: {'base_estimator': DecisionTreeClassifier(max_depth=8), 'learning_rate': 0.01, 'n_estimators': 500}\n",
            "0.818333 (0.028761) with: {'base_estimator': DecisionTreeClassifier(max_depth=8), 'learning_rate': 0.1, 'n_estimators': 10}\n",
            "0.832000 (0.035534) with: {'base_estimator': DecisionTreeClassifier(max_depth=8), 'learning_rate': 0.1, 'n_estimators': 50}\n",
            "0.846000 (0.037824) with: {'base_estimator': DecisionTreeClassifier(max_depth=8), 'learning_rate': 0.1, 'n_estimators': 100}\n",
            "0.862333 (0.031271) with: {'base_estimator': DecisionTreeClassifier(max_depth=8), 'learning_rate': 0.1, 'n_estimators': 500}\n",
            "0.870333 (0.037012) with: {'base_estimator': DecisionTreeClassifier(max_depth=8), 'learning_rate': 1.0, 'n_estimators': 10}\n",
            "0.932667 (0.019653) with: {'base_estimator': DecisionTreeClassifier(max_depth=8), 'learning_rate': 1.0, 'n_estimators': 50}\n",
            "0.943000 (0.021932) with: {'base_estimator': DecisionTreeClassifier(max_depth=8), 'learning_rate': 1.0, 'n_estimators': 100}\n",
            "0.955000 (0.016683) with: {'base_estimator': DecisionTreeClassifier(max_depth=8), 'learning_rate': 1.0, 'n_estimators': 500}\n",
            "0.794000 (0.033025) with: {'base_estimator': DecisionTreeClassifier(max_depth=9), 'learning_rate': 0.0001, 'n_estimators': 10}\n",
            "0.802000 (0.031665) with: {'base_estimator': DecisionTreeClassifier(max_depth=9), 'learning_rate': 0.0001, 'n_estimators': 50}\n",
            "0.799000 (0.027731) with: {'base_estimator': DecisionTreeClassifier(max_depth=9), 'learning_rate': 0.0001, 'n_estimators': 100}\n",
            "0.791000 (0.032078) with: {'base_estimator': DecisionTreeClassifier(max_depth=9), 'learning_rate': 0.0001, 'n_estimators': 500}\n",
            "0.799333 (0.031298) with: {'base_estimator': DecisionTreeClassifier(max_depth=9), 'learning_rate': 0.001, 'n_estimators': 10}\n",
            "0.796000 (0.037023) with: {'base_estimator': DecisionTreeClassifier(max_depth=9), 'learning_rate': 0.001, 'n_estimators': 50}\n",
            "0.802667 (0.036142) with: {'base_estimator': DecisionTreeClassifier(max_depth=9), 'learning_rate': 0.001, 'n_estimators': 100}\n",
            "0.808000 (0.037452) with: {'base_estimator': DecisionTreeClassifier(max_depth=9), 'learning_rate': 0.001, 'n_estimators': 500}\n",
            "0.806667 (0.035808) with: {'base_estimator': DecisionTreeClassifier(max_depth=9), 'learning_rate': 0.01, 'n_estimators': 10}\n",
            "0.811000 (0.031236) with: {'base_estimator': DecisionTreeClassifier(max_depth=9), 'learning_rate': 0.01, 'n_estimators': 50}\n",
            "0.816667 (0.029590) with: {'base_estimator': DecisionTreeClassifier(max_depth=9), 'learning_rate': 0.01, 'n_estimators': 100}\n",
            "0.834333 (0.043718) with: {'base_estimator': DecisionTreeClassifier(max_depth=9), 'learning_rate': 0.01, 'n_estimators': 500}\n",
            "0.833333 (0.034769) with: {'base_estimator': DecisionTreeClassifier(max_depth=9), 'learning_rate': 0.1, 'n_estimators': 10}\n",
            "0.846667 (0.032489) with: {'base_estimator': DecisionTreeClassifier(max_depth=9), 'learning_rate': 0.1, 'n_estimators': 50}\n",
            "0.853333 (0.035528) with: {'base_estimator': DecisionTreeClassifier(max_depth=9), 'learning_rate': 0.1, 'n_estimators': 100}\n",
            "0.863000 (0.036892) with: {'base_estimator': DecisionTreeClassifier(max_depth=9), 'learning_rate': 0.1, 'n_estimators': 500}\n",
            "0.879667 (0.026769) with: {'base_estimator': DecisionTreeClassifier(max_depth=9), 'learning_rate': 1.0, 'n_estimators': 10}\n",
            "0.930333 (0.019746) with: {'base_estimator': DecisionTreeClassifier(max_depth=9), 'learning_rate': 1.0, 'n_estimators': 50}\n",
            "0.945333 (0.023907) with: {'base_estimator': DecisionTreeClassifier(max_depth=9), 'learning_rate': 1.0, 'n_estimators': 100}\n",
            "0.952333 (0.016265) with: {'base_estimator': DecisionTreeClassifier(max_depth=9), 'learning_rate': 1.0, 'n_estimators': 500}\n"
          ]
        }
      ]
    }
  ]
}