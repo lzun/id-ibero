{
  "nbformat": 4,
  "nbformat_minor": 0,
  "metadata": {
    "colab": {
      "name": "ensemble_bagging_3.ipynb",
      "provenance": []
    },
    "kernelspec": {
      "name": "python3",
      "display_name": "Python 3"
    },
    "language_info": {
      "name": "python"
    }
  },
  "cells": [
    {
      "cell_type": "code",
      "execution_count": null,
      "metadata": {
        "id": "o1oonVh5M2GY"
      },
      "outputs": [],
      "source": [
        "from sklearn.svm import SVC\n",
        "from sklearn.ensemble import BaggingClassifier\n",
        "from sklearn.datasets import make_classification\n",
        "from sklearn.metrics import accuracy_score\n",
        "from sklearn.model_selection import train_test_split\n",
        "import matplotlib.pyplot as plt"
      ]
    },
    {
      "cell_type": "code",
      "source": [
        "X, y = make_classification(n_samples=10000, n_features=20, n_informative=2, n_redundant=0, random_state=0, shuffle=False)"
      ],
      "metadata": {
        "id": "mX4QldguM6Qp"
      },
      "execution_count": null,
      "outputs": []
    },
    {
      "cell_type": "code",
      "source": [
        "X_train, X_test, y_train, y_test = train_test_split(X, y, test_size = 0.25)"
      ],
      "metadata": {
        "id": "voUq_ev7OzjF"
      },
      "execution_count": null,
      "outputs": []
    },
    {
      "cell_type": "code",
      "source": [
        "clf = BaggingClassifier(base_estimator=SVC(), n_estimators=10, random_state=0).fit(X, y)"
      ],
      "metadata": {
        "id": "X-2gFeJdM_lh"
      },
      "execution_count": null,
      "outputs": []
    },
    {
      "cell_type": "code",
      "source": [
        "clf.predict([[0, 0, 0, 0]])"
      ],
      "metadata": {
        "colab": {
          "base_uri": "https://localhost:8080/"
        },
        "id": "btA4QB2yNh3r",
        "outputId": "52af8dd3-1f49-448c-f09e-2d6a64d88921"
      },
      "execution_count": null,
      "outputs": [
        {
          "output_type": "execute_result",
          "data": {
            "text/plain": [
              "array([1])"
            ]
          },
          "metadata": {},
          "execution_count": 11
        }
      ]
    },
    {
      "cell_type": "code",
      "source": [
        "acc = []\n",
        "for i in [5,10,15,20,25,30]:\n",
        "  clf = BaggingClassifier(n_estimators= i, random_state=0).fit(X,y)\n",
        "  acc.append(accuracy_score(y_test, clf.predict(X_test)))"
      ],
      "metadata": {
        "id": "Vbjz6NMYOA2c"
      },
      "execution_count": null,
      "outputs": []
    },
    {
      "cell_type": "code",
      "source": [
        "print(acc)"
      ],
      "metadata": {
        "colab": {
          "base_uri": "https://localhost:8080/"
        },
        "id": "pGGmHwluPuUG",
        "outputId": "f7aa83d3-99a4-471c-bd89-506ae084d6c4"
      },
      "execution_count": null,
      "outputs": [
        {
          "output_type": "stream",
          "name": "stdout",
          "text": [
            "[0.9852, 0.9932, 0.9944, 0.998, 0.998, 0.998]\n"
          ]
        }
      ]
    },
    {
      "cell_type": "markdown",
      "source": [
        "5000 - SVM: [0.984, 0.988, 0.988, 0.984, 0.992, 0.988]\n",
        "\n",
        "10K - SVM: [0.8756, 0.8772, 0.8768, 0.8768, 0.874, 0.8752]\n",
        "\n",
        "10k - DT: [0.9852, 0.9932, 0.9944, 0.998, 0.998, 0.998]\n"
      ],
      "metadata": {
        "id": "IXsYBCHE0OCx"
      }
    },
    {
      "cell_type": "code",
      "source": [
        "plt.plot(acc,'r-', linewidth=2, label='error')\n",
        "plt.legend()"
      ],
      "metadata": {
        "colab": {
          "base_uri": "https://localhost:8080/",
          "height": 283
        },
        "id": "zHORNVThPcGU",
        "outputId": "1e7159ab-b0ee-43fc-ca97-e1feb8725d9f"
      },
      "execution_count": null,
      "outputs": [
        {
          "output_type": "execute_result",
          "data": {
            "text/plain": [
              "<matplotlib.legend.Legend at 0x7f428ce71bd0>"
            ]
          },
          "metadata": {},
          "execution_count": 30
        },
        {
          "output_type": "display_data",
          "data": {
            "image/png": "[encoded data removed]",
            "text/plain": [
              "<Figure size 432x288 with 1 Axes>"
            ]
          },
          "metadata": {
            "needs_background": "light"
          }
        }
      ]
    }
  ]
}