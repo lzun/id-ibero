{
  "nbformat": 4,
  "nbformat_minor": 0,
  "metadata": {
    "colab": {
      "name": "adaboost-learning-rate.ipynb",
      "provenance": []
    },
    "kernelspec": {
      "name": "python3",
      "display_name": "Python 3"
    },
    "language_info": {
      "name": "python"
    }
  },
  "cells": [
    {
      "cell_type": "code",
      "source": [
        "from numpy import mean\n",
        "from numpy import std\n",
        "from numpy import arange\n",
        "from sklearn.datasets import make_classification\n",
        "from sklearn.model_selection import cross_val_score\n",
        "from sklearn.model_selection import RepeatedStratifiedKFold\n",
        "from sklearn.ensemble import AdaBoostClassifier\n",
        "from matplotlib import pyplot"
      ],
      "metadata": {
        "id": "G3-M17FeMdo4"
      },
      "execution_count": null,
      "outputs": []
    },
    {
      "cell_type": "code",
      "source": [
        "def get_dataset():\n",
        "\tX, y = make_classification(n_samples=1000, n_features=20, n_informative=15, n_redundant=5, random_state=6)\n",
        "\treturn X, y"
      ],
      "metadata": {
        "id": "qweqBWYkMfDd"
      },
      "execution_count": null,
      "outputs": []
    },
    {
      "cell_type": "code",
      "source": [
        "def get_models():\n",
        "\tmodels = dict()\n",
        "\tfor i in arange(0.1, 2.1, 0.1):\n",
        "\t\tkey = '%.3f' % i\n",
        "\t\tmodels[key] = AdaBoostClassifier(learning_rate=i)\n",
        "\treturn models"
      ],
      "metadata": {
        "id": "uV4CptHiMhmW"
      },
      "execution_count": null,
      "outputs": []
    },
    {
      "cell_type": "code",
      "source": [
        "def evaluate_model(model, X, y):\n",
        "\tcv = RepeatedStratifiedKFold(n_splits=10, n_repeats=3, random_state=1)\n",
        "\tscores = cross_val_score(model, X, y, scoring='accuracy', cv=cv, n_jobs=-1)\n",
        "\treturn scores"
      ],
      "metadata": {
        "id": "h-lR9UZdMix9"
      },
      "execution_count": null,
      "outputs": []
    },
    {
      "cell_type": "code",
      "execution_count": null,
      "metadata": {
        "colab": {
          "base_uri": "https://localhost:8080/",
          "height": 418
        },
        "id": "NwAwKCqEMYfP",
        "outputId": "029dcdf5-46f9-4bf9-e8f4-a493797b6a4a"
      },
      "outputs": [
        {
          "output_type": "stream",
          "name": "stdout",
          "text": [
            ">0.100 0.767 (0.049)\n",
            ">0.200 0.786 (0.042)\n",
            ">0.300 0.802 (0.040)\n",
            ">0.400 0.798 (0.037)\n",
            ">0.500 0.805 (0.042)\n",
            ">0.600 0.795 (0.031)\n",
            ">0.700 0.799 (0.035)\n",
            ">0.800 0.801 (0.033)\n",
            ">0.900 0.805 (0.032)\n",
            ">1.000 0.806 (0.041)\n",
            ">1.100 0.801 (0.037)\n",
            ">1.200 0.800 (0.030)\n",
            ">1.300 0.799 (0.041)\n",
            ">1.400 0.793 (0.041)\n",
            ">1.500 0.790 (0.040)\n",
            ">1.600 0.775 (0.034)\n",
            ">1.700 0.767 (0.054)\n",
            ">1.800 0.768 (0.040)\n",
            ">1.900 0.736 (0.047)\n",
            ">2.000 0.682 (0.048)\n"
          ]
        },
        {
          "output_type": "display_data",
          "data": {
            "image/png": "[encoded data removed]",
            "text/plain": [
              "<Figure size 432x288 with 1 Axes>"
            ]
          },
          "metadata": {
            "needs_background": "light"
          }
        }
      ],
      "source": [
        "X, y = get_dataset()\n",
        "models = get_models()\n",
        "results, names = list(), list()\n",
        "for name, model in models.items():\n",
        "\tscores = evaluate_model(model, X, y)\n",
        "\tresults.append(scores)\n",
        "\tnames.append(name)\n",
        "\tprint('>%s %.3f (%.3f)' % (name, mean(scores), std(scores)))\n",
        "pyplot.boxplot(results, labels=names, showmeans=True)\n",
        "pyplot.xticks(rotation=45)\n",
        "pyplot.show()"
      ]
    }
  ]
}