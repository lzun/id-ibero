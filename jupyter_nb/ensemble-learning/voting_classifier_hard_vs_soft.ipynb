{
  "nbformat": 4,
  "nbformat_minor": 0,
  "metadata": {
    "colab": {
      "name": "voting_classifier_hard_vs_soft.ipynb",
      "provenance": []
    },
    "kernelspec": {
      "name": "python3",
      "display_name": "Python 3"
    },
    "language_info": {
      "name": "python"
    }
  },
  "cells": [
    {
      "cell_type": "code",
      "execution_count": null,
      "metadata": {
        "id": "pfnqVWLP_bMZ"
      },
      "outputs": [],
      "source": [
        "from sklearn.ensemble import VotingClassifier\n",
        "from sklearn.linear_model import LogisticRegression\n",
        "from sklearn.svm import SVC\n",
        "from sklearn.tree import DecisionTreeClassifier\n",
        "from sklearn.datasets import load_iris\n",
        "from sklearn.metrics import accuracy_score\n",
        "from sklearn.model_selection import train_test_split"
      ]
    },
    {
      "cell_type": "code",
      "source": [
        "iris = load_iris()\n",
        "X = iris.data[:, :4]\n",
        "Y = iris.target"
      ],
      "metadata": {
        "id": "E2mltIlr_e5J"
      },
      "execution_count": null,
      "outputs": []
    },
    {
      "cell_type": "code",
      "source": [
        "X_train, X_test, y_train, y_test = train_test_split(X, \n",
        "                                                    Y, \n",
        "                                                    test_size = 0.20, \n",
        "                                                    random_state = 42)"
      ],
      "metadata": {
        "id": "Nv16pljf_h3V"
      },
      "execution_count": null,
      "outputs": []
    },
    {
      "cell_type": "code",
      "source": [
        "estimator = []\n",
        "estimator.append(('LR', \n",
        "                  LogisticRegression(solver ='lbfgs', \n",
        "                                     multi_class ='multinomial', \n",
        "                                     max_iter = 200)))\n",
        "estimator.append(('SVC', SVC(gamma ='auto', probability = True)))\n",
        "estimator.append(('DTC', DecisionTreeClassifier()))"
      ],
      "metadata": {
        "id": "7bM1HVUq_kh3"
      },
      "execution_count": null,
      "outputs": []
    },
    {
      "cell_type": "code",
      "source": [
        "# Voting Classifier with hard voting\n",
        "vot_hard = VotingClassifier(estimators = estimator, voting ='hard')\n",
        "vot_hard.fit(X_train, y_train)\n",
        "y_pred = vot_hard.predict(X_test)"
      ],
      "metadata": {
        "id": "JpYECqAZ_nem"
      },
      "execution_count": null,
      "outputs": []
    },
    {
      "cell_type": "code",
      "source": [
        "# using accuracy_score metric to predict accuracy\n",
        "score = accuracy_score(y_test, y_pred)\n",
        "print(score)"
      ],
      "metadata": {
        "colab": {
          "base_uri": "https://localhost:8080/"
        },
        "id": "ElMp9HYx_ppG",
        "outputId": "f3435a4c-f15b-4f19-9bed-fe43476405c5"
      },
      "execution_count": null,
      "outputs": [
        {
          "output_type": "stream",
          "name": "stdout",
          "text": [
            "Hard Voting Score  1\n"
          ]
        }
      ]
    },
    {
      "cell_type": "code",
      "source": [
        "# Voting Classifier with soft voting\n",
        "vot_soft = VotingClassifier(estimators = estimator, voting ='soft')\n",
        "vot_soft.fit(X_train, y_train)\n",
        "y_pred = vot_soft.predict(X_test)"
      ],
      "metadata": {
        "id": "b8NT9gSI_rWn"
      },
      "execution_count": null,
      "outputs": []
    },
    {
      "cell_type": "code",
      "source": [
        "# using accuracy_score\n",
        "score = accuracy_score(y_test, y_pred)\n",
        "print(score)"
      ],
      "metadata": {
        "colab": {
          "base_uri": "https://localhost:8080/"
        },
        "id": "9UVK5xPx_thH",
        "outputId": "c24f7827-fd16-4afe-e983-7aedb3232920"
      },
      "execution_count": null,
      "outputs": [
        {
          "output_type": "stream",
          "name": "stdout",
          "text": [
            "Soft Voting Score  1\n"
          ]
        }
      ]
    }
  ]
}