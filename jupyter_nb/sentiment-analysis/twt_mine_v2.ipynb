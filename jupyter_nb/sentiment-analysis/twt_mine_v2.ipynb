{
  "nbformat": 4,
  "nbformat_minor": 0,
  "metadata": {
    "colab": {
      "name": "twt_mine_v2.ipynb",
      "provenance": []
    },
    "kernelspec": {
      "name": "python3",
      "display_name": "Python 3"
    },
    "language_info": {
      "name": "python"
    }
  },
  "cells": [
    {
      "cell_type": "markdown",
      "metadata": {
        "id": "N521014ET8YG"
      },
      "source": [
        "Iniciamos importando las librerías necesarios para nuestro código."
      ]
    },
    {
      "cell_type": "code",
      "metadata": {
        "id": "TJbTPaoLTxmK"
      },
      "source": [
        "import requests\n",
        "import json\n",
        "import time"
      ],
      "execution_count": null,
      "outputs": []
    },
    {
      "cell_type": "markdown",
      "metadata": {
        "id": "Xm12ZjJzUZLU"
      },
      "source": [
        "Definimos algunas variables globales, en este caso `bearer_token` para acceder al servicio de Twitter y `search_url` como el enlace base para realizar las peticiones por medio del método `search`.\n",
        "\n"
      ]
    },
    {
      "cell_type": "code",
      "metadata": {
        "id": "Cv9StlW4T7kc"
      },
      "source": [
        "bearer_token = 'AAAAAAAAAAAAAAAAAAAAANYRagEAAAAAZMp6MHxLFIKjb1%2B9nkrGURy1%2FOs%3D60MbAdCFxfsTE7nTl2b8PlSGYdZj0huPg7RbMG4z21l4e0jReV'\n",
        "search_url = 'https://api.twitter.com/2/tweets/search/all'\n"
      ],
      "execution_count": null,
      "outputs": []
    },
    {
      "cell_type": "markdown",
      "metadata": {
        "id": "tId19D91APTy"
      },
      "source": [
        "Se define `query_params` que alberga el query que permite definir qué tipo de información se quiere extraer.\n",
        "\n",
        "\n",
        "*   [Enlace a la documentación para construir queries](https://developer.twitter.com/en/docs/twitter-api/tweets/search/integrate/build-a-query) \n",
        "*   [Lista de operadores](https://developer.twitter.com/en/docs/twitter-api/tweets/search/integrate/build-a-query#list)\n",
        "*   [Operadores booleanos y agrupación](https://developer.twitter.com/en/docs/twitter-api/tweets/search/integrate/build-a-query#boolean)\n",
        "*   [Algunos ejemplos...](https://developer.twitter.com/en/docs/twitter-api/tweets/search/integrate/build-a-query#examples)\n",
        "\n"
      ]
    },
    {
      "cell_type": "markdown",
      "source": [
        "Requests permite definir enlaces web de una manera sencilla. Solo se necesita crear un diccionario con los parámetros que se quieran pasar al enlace:"
      ],
      "metadata": {
        "id": "5aD3Yc6kYkZK"
      }
    },
    {
      "cell_type": "code",
      "metadata": {
        "id": "xBWqnepHAFqk"
      },
      "source": [
        "query_params = {'query': '(ukraine OR #ukraine) lang:en -is:retweet',\n",
        "'tweet.fields': 'author_id,created_at,public_metrics',\n",
        "'start_time': '2022-02-22T06:00:00Z',\n",
        "'end_time': '2022-02-23T06:00:00Z',\n",
        "'max_results': 500}"
      ],
      "execution_count": null,
      "outputs": []
    },
    {
      "cell_type": "markdown",
      "metadata": {
        "id": "k49zyiSKQLc9"
      },
      "source": [
        "Se definen funciones para manejar algunas actividades:\n",
        "\n",
        "\n",
        "*   Crear el encabezado base\n",
        "*   Crear la conexión con Twitter\n",
        "*   Manejar la conexión y la descarga de datos\n",
        "\n"
      ]
    },
    {
      "cell_type": "code",
      "metadata": {
        "id": "dt0DIorHCguc"
      },
      "source": [
        "def create_headers(bearer_token):\n",
        "    headers = {\"Authorization\": \"Bearer {}\".format(bearer_token)}\n",
        "    return headers"
      ],
      "execution_count": null,
      "outputs": []
    },
    {
      "cell_type": "code",
      "metadata": {
        "id": "wpWDD7XrDYbR"
      },
      "source": [
        "def connect_to_endpoint(url, headers, params):\n",
        "    response = requests.request(\"GET\", url, headers=headers, params=params)\n",
        "    print(response.status_code)\n",
        "    if response.status_code != 200:\n",
        "        raise Exception(response.status_code, response.text)\n",
        "        print('--->>> There was an error! <<<---')\n",
        "    return response.json()"
      ],
      "execution_count": null,
      "outputs": []
    },
    {
      "cell_type": "code",
      "metadata": {
        "id": "3__-X9sTDpva"
      },
      "source": [
        "def main(file_name):\n",
        "    headers = create_headers(bearer_token)\n",
        "    json_response = connect_to_endpoint(search_url, headers, query_params)\n",
        "    # ----- escribe los datos en un archivo de texto -----\n",
        "    # itera sobre la llave 'data' del diccionario devuelto, el cual es una lista\n",
        "    for x in json_response['data']:\n",
        "        print(x) # opcional si se quiere ver la info en pantalla\n",
        "        with open(file_name, 'a') as f:\n",
        "            f.write(json.dumps(x)+'\\n')\n",
        "    # revisa si existe 'next_token' en el objeto json devuelto para paginar\n",
        "    try:\n",
        "        next_token = json_response['meta']['next_token']\n",
        "        query_params['next_token'] = next_token\n",
        "        # recursion: a la siguiente pagina del request\n",
        "        time.sleep(5)\n",
        "        main(file_name)\n",
        "    except Exception as e:\n",
        "        print('No next token')\n",
        "        pass"
      ],
      "execution_count": null,
      "outputs": []
    },
    {
      "cell_type": "markdown",
      "metadata": {
        "id": "JSJBCdao-k_C"
      },
      "source": [
        "Finalmente, ejecutar el código especificando el nombre del archivo donde se desea guardar la información."
      ]
    },
    {
      "cell_type": "code",
      "metadata": {
        "id": "AHCNgI6tFRMs"
      },
      "source": [
        "file_name = '' #el nombre del archivo donde se guardan los tweets en formato JSON\n",
        "main(file_name)"
      ],
      "execution_count": null,
      "outputs": []
    }
  ]
}