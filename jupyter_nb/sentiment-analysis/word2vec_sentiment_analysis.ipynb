{
  "nbformat": 4,
  "nbformat_minor": 0,
  "metadata": {
    "colab": {
      "name": "word2vec_sentiment_analysis.ipynb",
      "provenance": []
    },
    "kernelspec": {
      "name": "python3",
      "display_name": "Python 3"
    },
    "language_info": {
      "name": "python"
    }
  },
  "cells": [
    {
      "cell_type": "code",
      "execution_count": null,
      "metadata": {
        "id": "WELmNut8LiJc"
      },
      "outputs": [],
      "source": [
        "!pip install lime"
      ]
    },
    {
      "cell_type": "code",
      "execution_count": null,
      "metadata": {
        "id": "naCcDoX37mXA"
      },
      "outputs": [],
      "source": [
        "# for data\n",
        "import pandas as pd\n",
        "import numpy as np\n",
        "\n",
        "# for plotting\n",
        "import matplotlib.pyplot as plt\n",
        "import seaborn as sns\n",
        "import itertools\n",
        "\n",
        "# for processing\n",
        "import re\n",
        "import nltk\n",
        "from nltk.tokenize import word_tokenize\n",
        "import string\n",
        "\n",
        "# for bag-of-words\n",
        "from sklearn import feature_extraction, feature_selection, model_selection, naive_bayes, pipeline, manifold, preprocessing, metrics, svm\n",
        "from sklearn.metrics import accuracy_score\n",
        "\n",
        "# for explainer\n",
        "from lime import lime_text\n",
        "\n",
        "# for word embedding\n",
        "import gensim\n",
        "import gensim.downloader as gensim_api## for deep learning\n",
        "import tensorflow as tf\n",
        "from tensorflow import keras\n",
        "from tensorflow.keras import models, layers, callbacks, preprocessing as kprocessing"
      ]
    },
    {
      "cell_type": "code",
      "execution_count": null,
      "metadata": {
        "colab": {
          "base_uri": "https://localhost:8080/"
        },
        "id": "5DYy5orNKZht",
        "outputId": "7b628277-86a8-4d55-b3f2-652535dc323c"
      },
      "outputs": [
        {
          "output_type": "stream",
          "name": "stdout",
          "text": [
            "Mounted at /content/drive\n"
          ]
        }
      ],
      "source": [
        "from google.colab import drive\n",
        "drive.mount('/content/drive')"
      ]
    },
    {
      "cell_type": "code",
      "execution_count": null,
      "metadata": {
        "id": "_LmMPv4RQywB"
      },
      "outputs": [],
      "source": [
        "nltk.download('book')"
      ]
    },
    {
      "cell_type": "markdown",
      "metadata": {
        "id": "qo0tDK7YMT-L"
      },
      "source": [
        "Importamos los datos desde un archivo csv a un DataFrame de Pandas."
      ]
    },
    {
      "cell_type": "code",
      "execution_count": null,
      "metadata": {
        "id": "Ha1cCHJd7toP"
      },
      "outputs": [],
      "source": [
        "# df = pd.read_csv('drive/MyDrive/csv_files/base_completa_tr.csv')\n",
        "df = pd.read_csv('drive/MyDrive/csv_files/base_completa_v2_headers.csv')\n",
        "# df = pd.read_csv('base_completa_v2_headers.csv')"
      ]
    },
    {
      "cell_type": "markdown",
      "metadata": {
        "id": "oPaG_2P0M-1C"
      },
      "source": [
        "Renombramos los encabezados para no escribir tanto en el futuro y seguir una nomenclatura aceptada dentro del área de ML."
      ]
    },
    {
      "cell_type": "code",
      "execution_count": null,
      "metadata": {
        "id": "QuV6guW2Mo5v"
      },
      "outputs": [],
      "source": [
        "df = df.rename(columns={\"tipologia\":\"y\", \"traduccion\":\"text\"})"
      ]
    },
    {
      "cell_type": "markdown",
      "metadata": {
        "id": "__miYJuzNH1g"
      },
      "source": [
        "Mandamos a imprimir 5 filas de forma aleatoria para observar los datos."
      ]
    },
    {
      "cell_type": "code",
      "execution_count": null,
      "metadata": {
        "colab": {
          "base_uri": "https://localhost:8080/",
          "height": 285
        },
        "id": "P4aFpt5bMZ8K",
        "outputId": "833b4637-e3a7-429e-e1e8-352c7e346d85"
      },
      "outputs": [
        {
          "output_type": "execute_result",
          "data": {
            "text/plain": [
              "        id                                              tweet        y  \\\n",
              "7381  7382  Reportaje: En 1950 9 vascos construyeron un ve...    amigo   \n",
              "5751  5752  Drug smugglers are using catapults as a new wa...  enemigo   \n",
              "1681  1682  Put Mexico On A Map Contest uses Google Sketch...  moderno   \n",
              "4076  4077  More than 28,000 people have died in drug-rela...  barbaro   \n",
              "438    439  Governador do estado de Chiapas, no México, @V...  neutral   \n",
              "\n",
              "                                                   text  \n",
              "7381  Report: In 1950 9 Basques built a sailboat to ...  \n",
              "5751  Drug smugglers are using catapults as a new wa...  \n",
              "1681  Put Mexico On A Map Contest uses Google Sketch...  \n",
              "4076  More than 28,000 people have died in drug-rela...  \n",
              "438   Governor of the State of Chiapas, Mexico, @vel...  "
            ],
            "text/html": [
              "\n",
              "  <div id=\"df-1aa45c59-078e-455d-8259-0a36105d9eae\">\n",
              "    <div class=\"colab-df-container\">\n",
              "      <div>\n",
              "<style scoped>\n",
              "    .dataframe tbody tr th:only-of-type {\n",
              "        vertical-align: middle;\n",
              "    }\n",
              "\n",
              "    .dataframe tbody tr th {\n",
              "        vertical-align: top;\n",
              "    }\n",
              "\n",
              "    .dataframe thead th {\n",
              "        text-align: right;\n",
              "    }\n",
              "</style>\n",
              "<table border=\"1\" class=\"dataframe\">\n",
              "  <thead>\n",
              "    <tr style=\"text-align: right;\">\n",
              "      <th></th>\n",
              "      <th>id</th>\n",
              "      <th>tweet</th>\n",
              "      <th>y</th>\n",
              "      <th>text</th>\n",
              "    </tr>\n",
              "  </thead>\n",
              "  <tbody>\n",
              "    <tr>\n",
              "      <th>7381</th>\n",
              "      <td>7382</td>\n",
              "      <td>Reportaje: En 1950 9 vascos construyeron un ve...</td>\n",
              "      <td>amigo</td>\n",
              "      <td>Report: In 1950 9 Basques built a sailboat to ...</td>\n",
              "    </tr>\n",
              "    <tr>\n",
              "      <th>5751</th>\n",
              "      <td>5752</td>\n",
              "      <td>Drug smugglers are using catapults as a new wa...</td>\n",
              "      <td>enemigo</td>\n",
              "      <td>Drug smugglers are using catapults as a new wa...</td>\n",
              "    </tr>\n",
              "    <tr>\n",
              "      <th>1681</th>\n",
              "      <td>1682</td>\n",
              "      <td>Put Mexico On A Map Contest uses Google Sketch...</td>\n",
              "      <td>moderno</td>\n",
              "      <td>Put Mexico On A Map Contest uses Google Sketch...</td>\n",
              "    </tr>\n",
              "    <tr>\n",
              "      <th>4076</th>\n",
              "      <td>4077</td>\n",
              "      <td>More than 28,000 people have died in drug-rela...</td>\n",
              "      <td>barbaro</td>\n",
              "      <td>More than 28,000 people have died in drug-rela...</td>\n",
              "    </tr>\n",
              "    <tr>\n",
              "      <th>438</th>\n",
              "      <td>439</td>\n",
              "      <td>Governador do estado de Chiapas, no México, @V...</td>\n",
              "      <td>neutral</td>\n",
              "      <td>Governor of the State of Chiapas, Mexico, @vel...</td>\n",
              "    </tr>\n",
              "  </tbody>\n",
              "</table>\n",
              "</div>\n",
              "      <button class=\"colab-df-convert\" onclick=\"convertToInteractive('df-1aa45c59-078e-455d-8259-0a36105d9eae')\"\n",
              "              title=\"Convert this dataframe to an interactive table.\"\n",
              "              style=\"display:none;\">\n",
              "        \n",
              "  <svg xmlns=\"http://www.w3.org/2000/svg\" height=\"24px\"viewBox=\"0 0 24 24\"\n",
              "       width=\"24px\">\n",
              "    <path d=\"M0 0h24v24H0V0z\" fill=\"none\"/>\n",
              "    <path d=\"M18.56 5.44l.94 2.06.94-2.06 2.06-.94-2.06-.94-.94-2.06-.94 2.06-2.06.94zm-11 1L8.5 8.5l.94-2.06 2.06-.94-2.06-.94L8.5 2.5l-.94 2.06-2.06.94zm10 10l.94 2.06.94-2.06 2.06-.94-2.06-.94-.94-2.06-.94 2.06-2.06.94z\"/><path d=\"M17.41 7.96l-1.37-1.37c-.4-.4-.92-.59-1.43-.59-.52 0-1.04.2-1.43.59L10.3 9.45l-7.72 7.72c-.78.78-.78 2.05 0 2.83L4 21.41c.39.39.9.59 1.41.59.51 0 1.02-.2 1.41-.59l7.78-7.78 2.81-2.81c.8-.78.8-2.07 0-2.86zM5.41 20L4 18.59l7.72-7.72 1.47 1.35L5.41 20z\"/>\n",
              "  </svg>\n",
              "      </button>\n",
              "      \n",
              "  <style>\n",
              "    .colab-df-container {\n",
              "      display:flex;\n",
              "      flex-wrap:wrap;\n",
              "      gap: 12px;\n",
              "    }\n",
              "\n",
              "    .colab-df-convert {\n",
              "      background-color: #E8F0FE;\n",
              "      border: none;\n",
              "      border-radius: 50%;\n",
              "      cursor: pointer;\n",
              "      display: none;\n",
              "      fill: #1967D2;\n",
              "      height: 32px;\n",
              "      padding: 0 0 0 0;\n",
              "      width: 32px;\n",
              "    }\n",
              "\n",
              "    .colab-df-convert:hover {\n",
              "      background-color: #E2EBFA;\n",
              "      box-shadow: 0px 1px 2px rgba(60, 64, 67, 0.3), 0px 1px 3px 1px rgba(60, 64, 67, 0.15);\n",
              "      fill: #174EA6;\n",
              "    }\n",
              "\n",
              "    [theme=dark] .colab-df-convert {\n",
              "      background-color: #3B4455;\n",
              "      fill: #D2E3FC;\n",
              "    }\n",
              "\n",
              "    [theme=dark] .colab-df-convert:hover {\n",
              "      background-color: #434B5C;\n",
              "      box-shadow: 0px 1px 3px 1px rgba(0, 0, 0, 0.15);\n",
              "      filter: drop-shadow(0px 1px 2px rgba(0, 0, 0, 0.3));\n",
              "      fill: #FFFFFF;\n",
              "    }\n",
              "  </style>\n",
              "\n",
              "      <script>\n",
              "        const buttonEl =\n",
              "          document.querySelector('#df-1aa45c59-078e-455d-8259-0a36105d9eae button.colab-df-convert');\n",
              "        buttonEl.style.display =\n",
              "          google.colab.kernel.accessAllowed ? 'block' : 'none';\n",
              "\n",
              "        async function convertToInteractive(key) {\n",
              "          const element = document.querySelector('#df-1aa45c59-078e-455d-8259-0a36105d9eae');\n",
              "          const dataTable =\n",
              "            await google.colab.kernel.invokeFunction('convertToInteractive',\n",
              "                                                     [key], {});\n",
              "          if (!dataTable) return;\n",
              "\n",
              "          const docLinkHtml = 'Like what you see? Visit the ' +\n",
              "            '<a target=\"_blank\" href=https://colab.research.google.com/notebooks/data_table.ipynb>data table notebook</a>'\n",
              "            + ' to learn more about interactive tables.';\n",
              "          element.innerHTML = '';\n",
              "          dataTable['output_type'] = 'display_data';\n",
              "          await google.colab.output.renderOutput(dataTable, element);\n",
              "          const docLink = document.createElement('div');\n",
              "          docLink.innerHTML = docLinkHtml;\n",
              "          element.appendChild(docLink);\n",
              "        }\n",
              "      </script>\n",
              "    </div>\n",
              "  </div>\n",
              "  "
            ]
          },
          "metadata": {},
          "execution_count": 7
        }
      ],
      "source": [
        "df.sample(5)"
      ]
    },
    {
      "cell_type": "markdown",
      "metadata": {
        "id": "WJ0FQiD0Nhhh"
      },
      "source": [
        "Vamos a explorar brevemente la distribución de los datos según su clase por medio de un gráfico de barras horizontales."
      ]
    },
    {
      "cell_type": "code",
      "execution_count": null,
      "metadata": {
        "id": "JfbleufNNZcu"
      },
      "outputs": [],
      "source": [
        "fig, ax = plt.subplots()\n",
        "fig.suptitle(\"y\", fontsize=12)\n",
        "df[\"y\"].reset_index().groupby(\"y\").count().sort_values(by= \n",
        "       \"index\").plot(kind=\"barh\", legend=False, \n",
        "        ax=ax).grid(axis='x')\n",
        "plt.show()"
      ]
    },
    {
      "cell_type": "markdown",
      "metadata": {
        "id": "eWwN_ez9N8ry"
      },
      "source": [
        "A continuación, vamos a realizar una función para procesar el texto: limpieza, remover stopwords, y normalizar mediante lematización o stemming. Esta función se puede mapear en un DataFrame y esta forma, procesar toda una columna de texto."
      ]
    },
    {
      "cell_type": "code",
      "execution_count": null,
      "metadata": {
        "id": "NVU6nFzCptGW"
      },
      "outputs": [],
      "source": [
        "def get_wordnet_pos(treebank_tag):\n",
        "\n",
        "\tif treebank_tag.startswith('J'):\n",
        "\t\treturn nltk.corpus.wordnet.ADJ\n",
        "\telif treebank_tag.startswith('V'):\n",
        "\t\treturn nltk.corpus.wordnet.VERB\n",
        "\telif treebank_tag.startswith('N'):\n",
        "\t\treturn nltk.corpus.wordnet.NOUN\n",
        "\telif treebank_tag.startswith('R'):\n",
        "\t\treturn nltk.corpus.wordnet.ADV\n",
        "\telse:\n",
        "\t\treturn nltk.corpus.wordnet.NOUN"
      ]
    },
    {
      "cell_type": "code",
      "execution_count": null,
      "metadata": {
        "id": "uexd-6Wilzy9"
      },
      "outputs": [],
      "source": [
        "def my_preprocess_text(text, flg_stemm=False, flg_lemm=True, lst_stopwords=None):\n",
        "\n",
        "  # quitamos hashtags\n",
        "  clean_tweet = re.sub('#[A-Za-z0-9_]+', '', text)\n",
        "\n",
        "  # quitamos cashtags\n",
        "  clean_tweet = re.sub('\\$[A-Za-z0-9_]+', '', clean_tweet)\n",
        "\n",
        "  # quitamos nosmbres de usuario\n",
        "  clean_tweet = re.sub('@[A-Za-z0-9_]+', '', clean_tweet)\n",
        "\n",
        "  # quitamos enlaces\n",
        "  clean_tweet = re.sub('http[s]?://(?:[a-zA-Z]|[0-9]|[$-_@.&+]|[!*\\(\\),]|(?:%[0-9a-fA-F][0-9a-fA-F]))+', '', clean_tweet)\n",
        "\n",
        "  # quitamos signos de puntuacion\n",
        "  clean_tweet = re.compile('[%s]' % re.escape(string.punctuation)).sub(' ', clean_tweet)\n",
        "\n",
        "  # quitamos numeros\n",
        "  clean_tweet = re.sub('[0-9_]+', '', clean_tweet)\n",
        "\n",
        "  # quitar caracteres repetidos\n",
        "  clean_tweet = re.sub(r'(.)\\1{2,}', r'\\1', clean_tweet)\n",
        "\n",
        "  # tokenizamos\n",
        "  clean_tweet = word_tokenize(clean_tweet)\n",
        "\n",
        "  # filtramos palabras vacias\n",
        "  if (lst_stopwords is not None):\n",
        "    clean_tweet = [word for word in clean_tweet if word not in lst_stopwords]\n",
        "  \n",
        "  # Stemming (remove -ing, -ly, ...)\n",
        "  if (flg_stemm == True):\n",
        "    ps = nltk.stem.porter.PorterStemmer()\n",
        "    clean_tweet = [ps.stem(word) for word in clean_tweet]\n",
        "                \n",
        "  # Lematizacion\n",
        "  if flg_lemm == True:\n",
        "    wnl = nltk.stem.wordnet.WordNetLemmatizer()\n",
        "    tags = nltk.pos_tag(clean_tweet)\n",
        "    clean_tweet = [wnl.lemmatize(j[0],get_wordnet_pos(j[1])) for j in tags]\n",
        "            \n",
        "  # volvemos a jutar las palabras en una oracion\n",
        "  text = \" \".join(clean_tweet)\n",
        "  return text"
      ]
    },
    {
      "cell_type": "code",
      "execution_count": null,
      "metadata": {
        "id": "Abck7FPuN1LF"
      },
      "outputs": [],
      "source": [
        "def utils_preprocess_text(text, flg_stemm=False, flg_lemm=True, lst_stopwords=None):\n",
        "  ## clean (convert to lowercase and remove punctuations and characters and then strip)\n",
        "  text = re.sub(r'[^\\w\\s]', '', str(text).lower().strip())\n",
        "            \n",
        "  ## Tokenize (convert from string to list)\n",
        "  lst_text = text.split()    ## remove Stopwords\n",
        "  if lst_stopwords is not None:\n",
        "    lst_text = [word for word in lst_text if word not in lst_stopwords]\n",
        "                \n",
        "  ## Stemming (remove -ing, -ly, ...)\n",
        "  if flg_stemm == True:\n",
        "    ps = nltk.stem.porter.PorterStemmer()\n",
        "    lst_text = [ps.stem(word) for word in lst_text]\n",
        "                \n",
        "  ## Lemmatisation (convert the word into root word)\n",
        "  if flg_lemm == True:\n",
        "    lem = nltk.stem.wordnet.WordNetLemmatizer()\n",
        "    lst_text = [lem.lemmatize(word) for word in lst_text]\n",
        "            \n",
        "  ## back to string from list\n",
        "  text = \" \".join(lst_text)\n",
        "  return text"
      ]
    },
    {
      "cell_type": "code",
      "execution_count": null,
      "metadata": {
        "id": "8RSRiNksQd20"
      },
      "outputs": [],
      "source": [
        "df[\"text_clean\"] = df[\"text\"].apply(lambda x: utils_preprocess_text(x, flg_stemm=False, flg_lemm=True, \n",
        "                                                                      lst_stopwords=nltk.corpus.stopwords.words(\"english\")))"
      ]
    },
    {
      "cell_type": "code",
      "execution_count": null,
      "metadata": {
        "id": "aprpAVQPRUzO"
      },
      "outputs": [],
      "source": [
        "# split train-test\n",
        "df_train, df_test = model_selection.train_test_split(df, test_size=0.3)\n",
        "\n",
        "# get target\n",
        "y_train = df_train[\"y\"].values\n",
        "y_test = df_test[\"y\"].values"
      ]
    },
    {
      "cell_type": "markdown",
      "metadata": {
        "id": "M1Mv8bTdnYif"
      },
      "source": [
        "\n",
        "\n",
        "---\n",
        "\n",
        "Pasemos al siguiente modelo de lenguaje: embeddings mediante word2vec. Para este problema, vamos a calcular nuestros propios embeddings mediante unigramas, bigramas y trigramas con la ayuda de la libreria gensim.\n",
        "\n"
      ]
    },
    {
      "cell_type": "code",
      "execution_count": null,
      "metadata": {
        "id": "rnXCZc8kn-KF"
      },
      "outputs": [],
      "source": [
        "corpus = df_train[\"text_clean\"]\n",
        "\n",
        "# create list of lists of unigrams\n",
        "lst_corpus = []\n",
        "for string in corpus:\n",
        "   lst_words = string.split()\n",
        "   lst_grams = [\" \".join(lst_words[i:i+1]) \n",
        "               for i in range(0, len(lst_words), 1)]\n",
        "   lst_corpus.append(lst_grams)\n",
        "\n",
        "#  detect bigrams and trigrams\n",
        "bigrams_detector = gensim.models.phrases.Phrases(lst_corpus, \n",
        "                 delimiter=\" \".encode(), min_count=5, threshold=10)\n",
        "bigrams_detector = gensim.models.phrases.Phraser(bigrams_detector)\n",
        "\n",
        "trigrams_detector = gensim.models.phrases.Phrases(bigrams_detector[lst_corpus], \n",
        "            delimiter=\" \".encode(), min_count=5, threshold=10)\n",
        "trigrams_detector = gensim.models.phrases.Phraser(trigrams_detector)"
      ]
    },
    {
      "cell_type": "markdown",
      "metadata": {
        "id": "Dius1alFpOY4"
      },
      "source": [
        "Para determinar \"caseramente\" word2vec, se debe determinar:\n",
        "\n",
        "* El tamaño del vector de salida (arbitrario, se deja a libre elección).\n",
        "* El tamaño de la ventana que barre el texto ($n$ palabras atrás y adelante, ubicándonos en la palabra objetivo).\n",
        "* La forma de entrenamiento. word2vec cuenta con dos variantes: *skipgram* y *continuos bag of words*."
      ]
    },
    {
      "cell_type": "code",
      "execution_count": null,
      "metadata": {
        "id": "0-CJqOfkqF19"
      },
      "outputs": [],
      "source": [
        "# fit word2vec\n",
        "nlp = gensim.models.word2vec.Word2Vec(lst_corpus, size=300, window=8, min_count=1, sg=1, iter=30)"
      ]
    },
    {
      "cell_type": "markdown",
      "metadata": {
        "id": "VmWfs64RqsGR"
      },
      "source": [
        "¿Cómo se utilizan estos vectores para clasificar? Las entradas de los vectores son los pesos de una red neuronal, por lo que pueden utilizarse otra vez con esa idea.\n",
        "\n",
        "* Primero, transformamos el corpus en secuencias y rellenamos los espacios (el tamaño de cada texto vectorizado debe ser igual, por lo que rellenamos con espacios vacíos) de identificadores de palabras para obtener una matriz de características.\n",
        "* Luego, creamos una matriz de embeddings para que el vector de la palabra con id $n$ se ubique en la fila $n$.\n",
        "* Finalmente, se construye una red neuronal con una capa de embeddings que pesa cada palabra en las secuencias con el vector correspondiente"
      ]
    },
    {
      "cell_type": "markdown",
      "metadata": {
        "id": "q8bRt-Uqs0cr"
      },
      "source": [
        "Empecemos pasando el texto a tokens por medio de la librería de Deep Learning Keras."
      ]
    },
    {
      "cell_type": "code",
      "execution_count": null,
      "metadata": {
        "id": "IPIhXrnqqQbi"
      },
      "outputs": [],
      "source": [
        "# tokenize text\n",
        "tokenizer = kprocessing.text.Tokenizer(lower=True, split=' ', \n",
        "                     oov_token=\"NaN\", \n",
        "                     filters='!\"#$%&()*+,-./:;<=>?@[\\\\]^_`{|}~\\t\\n')\n",
        "tokenizer.fit_on_texts(lst_corpus)\n",
        "dic_vocabulary = tokenizer.word_index\n",
        "\n",
        "# create sequence\n",
        "lst_text2seq= tokenizer.texts_to_sequences(lst_corpus)\n",
        "\n",
        "# padding sequence\n",
        "X_train = kprocessing.sequence.pad_sequences(lst_text2seq, \n",
        "                    maxlen=20, padding=\"post\", truncating=\"post\")"
      ]
    },
    {
      "cell_type": "markdown",
      "metadata": {
        "id": "KArPZwzdtFWu"
      },
      "source": [
        "Visualizemos la matriz `X_train`, que alberga todos los tuits del conjunto de entrenamiento. Noten que es menos dispersa y los espacios en blanco son el padding para que todos midan 15."
      ]
    },
    {
      "cell_type": "code",
      "execution_count": null,
      "metadata": {
        "colab": {
          "base_uri": "https://localhost:8080/",
          "height": 270
        },
        "id": "E_bYLbUttDym",
        "outputId": "adde4a88-fe5f-441d-a3d2-6c3dc085cbb9"
      },
      "outputs": [
        {
          "output_type": "display_data",
          "data": {
            "text/plain": [
              "<Figure size 432x288 with 1 Axes>"
            ],
            "image/png": "[encoded data removed]"
          },
          "metadata": {
            "needs_background": "light"
          }
        }
      ],
      "source": [
        "sns.heatmap(X_train==0, vmin=0, vmax=1, cbar=False)\n",
        "plt.show()"
      ]
    },
    {
      "cell_type": "markdown",
      "metadata": {
        "id": "wrvp_104ttrq"
      },
      "source": [
        "Debemos haccer lo mismo con el conjunto de prueba."
      ]
    },
    {
      "cell_type": "code",
      "execution_count": null,
      "metadata": {
        "id": "K-Z5PkXntkKF"
      },
      "outputs": [],
      "source": [
        "corpus = df_test[\"text_clean\"]\n",
        "\n",
        "# create list of n-grams\n",
        "lst_corpus = []\n",
        "for string in corpus:\n",
        "  lst_words = string.split()\n",
        "  lst_grams = [\" \".join(lst_words[i:i+1]) for i in range(0, len(lst_words), 1)]\n",
        "  lst_corpus.append(lst_grams)\n",
        "\n",
        "# detect common bigrams and trigrams using the fitted detectors\n",
        "lst_corpus = list(bigrams_detector[lst_corpus])\n",
        "lst_corpus = list(trigrams_detector[lst_corpus])\n",
        "\n",
        "# text to sequence with the fitted tokenizer\n",
        "lst_text2seq = tokenizer.texts_to_sequences(lst_corpus)\n",
        "\n",
        "# padding sequence\n",
        "X_test = kprocessing.sequence.pad_sequences(lst_text2seq, maxlen=20, padding=\"post\", truncating=\"post\")"
      ]
    },
    {
      "cell_type": "markdown",
      "metadata": {
        "id": "VKdv7u9Ct2s-"
      },
      "source": [
        "Ya que tenemos `X_test` y `X_train`, debemos crear la matriz de embeddings que son los pesos que unen la capa de entrada con la capa intermedia de la red neuronal."
      ]
    },
    {
      "cell_type": "code",
      "execution_count": null,
      "metadata": {
        "colab": {
          "base_uri": "https://localhost:8080/"
        },
        "id": "UyEX_Lokt2EL",
        "outputId": "82b2493a-a588-4f6a-c52c-bcf331780305"
      },
      "outputs": [
        {
          "output_type": "stream",
          "name": "stderr",
          "text": [
            "/usr/local/lib/python3.7/dist-packages/ipykernel_launcher.py:6: DeprecationWarning: Call to deprecated `__getitem__` (Method will be removed in 4.0.0, use self.wv.__getitem__() instead).\n",
            "  \n"
          ]
        }
      ],
      "source": [
        "# creamos una matriz con ceros\n",
        "embeddings = np.zeros((len(dic_vocabulary)+1, 300))\n",
        "for word, idx in dic_vocabulary.items():\n",
        "  # update the row with vector\n",
        "  try:\n",
        "   embeddings[idx] =  nlp[word]\n",
        "  # if word not in model then skip and the row stays all 0s\n",
        "  except:\n",
        "    pass"
      ]
    },
    {
      "cell_type": "markdown",
      "metadata": {
        "id": "FFoSDDs6umtL"
      },
      "source": [
        "Este código genera una matriz de tamaño voc x 300 (tamaño del vocabulario x el tamaño del embedding)."
      ]
    },
    {
      "cell_type": "code",
      "execution_count": null,
      "metadata": {
        "colab": {
          "base_uri": "https://localhost:8080/"
        },
        "id": "tBTsWAJqu6ZY",
        "outputId": "70bc43be-0b54-4eb4-a431-0735ad920cca"
      },
      "outputs": [
        {
          "output_type": "stream",
          "name": "stdout",
          "text": [
            "Model: \"model\"\n",
            "__________________________________________________________________________________________________\n",
            " Layer (type)                   Output Shape         Param #     Connected to                     \n",
            "==================================================================================================\n",
            " input_1 (InputLayer)           [(None, 20)]         0           []                               \n",
            "                                                                                                  \n",
            " embedding (Embedding)          (None, 20, 300)      4711200     ['input_1[0][0]']                \n",
            "                                                                                                  \n",
            " permute (Permute)              (None, 300, 20)      0           ['embedding[0][0]']              \n",
            "                                                                                                  \n",
            " dense (Dense)                  (None, 300, 20)      420         ['permute[0][0]']                \n",
            "                                                                                                  \n",
            " attention (Permute)            (None, 20, 300)      0           ['dense[0][0]']                  \n",
            "                                                                                                  \n",
            " multiply (Multiply)            (None, 20, 300)      0           ['embedding[0][0]',              \n",
            "                                                                  'attention[0][0]']              \n",
            "                                                                                                  \n",
            " bidirectional (Bidirectional)  (None, 20, 40)       51360       ['multiply[0][0]']               \n",
            "                                                                                                  \n",
            " bidirectional_1 (Bidirectional  (None, 40)          9760        ['bidirectional[0][0]']          \n",
            " )                                                                                                \n",
            "                                                                                                  \n",
            " dense_1 (Dense)                (None, 64)           2624        ['bidirectional_1[0][0]']        \n",
            "                                                                                                  \n",
            " dense_2 (Dense)                (None, 18)           1170        ['dense_1[0][0]']                \n",
            "                                                                                                  \n",
            "==================================================================================================\n",
            "Total params: 4,776,534\n",
            "Trainable params: 65,334\n",
            "Non-trainable params: 4,711,200\n",
            "__________________________________________________________________________________________________\n"
          ]
        }
      ],
      "source": [
        "#  attention layer\n",
        "def attention_layer(inputs, neurons):\n",
        "    x = layers.Permute((2,1))(inputs)\n",
        "    x = layers.Dense(neurons, activation=\"softmax\")(x)\n",
        "    x = layers.Permute((2,1), name=\"attention\")(x)\n",
        "    x = layers.multiply([inputs, x])\n",
        "    return x\n",
        "\n",
        "# input\n",
        "x_in = layers.Input(shape=(20,))\n",
        "\n",
        "# embedding\n",
        "x = layers.Embedding(input_dim=embeddings.shape[0],  \n",
        "                     output_dim=embeddings.shape[1], \n",
        "                     weights=[embeddings],\n",
        "                     input_length=20, trainable=False)(x_in)\n",
        "                     \n",
        "# apply attention\n",
        "x = attention_layer(x, neurons=20)\n",
        "\n",
        "# 2 layers of bidirectional lstm\n",
        "x = layers.Bidirectional(layers.LSTM(units=20, dropout=0.2, \n",
        "                         return_sequences=True))(x)\n",
        "x = layers.Bidirectional(layers.LSTM(units=20, dropout=0.2))(x)\n",
        "\n",
        "# final dense layers\n",
        "x = layers.Dense(64, activation='relu')(x)\n",
        "y_out = layers.Dense(18, activation='softmax')(x)\n",
        "\n",
        "# compile\n",
        "model = models.Model(x_in, y_out)\n",
        "model.compile(loss='sparse_categorical_crossentropy',\n",
        "              optimizer='adam', metrics=['accuracy'])\n",
        "\n",
        "model.summary()"
      ]
    },
    {
      "cell_type": "code",
      "execution_count": null,
      "metadata": {
        "colab": {
          "base_uri": "https://localhost:8080/",
          "height": 313
        },
        "id": "944c7aLGvRYS",
        "outputId": "ef79b3ff-4988-4dd9-ce20-2d1e99c4f50a"
      },
      "outputs": [
        {
          "output_type": "stream",
          "name": "stdout",
          "text": [
            "84\n"
          ]
        },
        {
          "output_type": "display_data",
          "data": {
            "text/plain": [
              "<Figure size 432x288 with 4 Axes>"
            ],
            "image/png": "[encoded data removed]"
          },
          "metadata": {
            "needs_background": "light"
          }
        }
      ],
      "source": [
        "# pasamos los valores de y a numeros\n",
        "dic_y_mapping = {n:label for n,label in \n",
        "                 enumerate(np.unique(y_train))}\n",
        "inverse_dic = {v:k for k,v in dic_y_mapping.items()}\n",
        "y_train = np.array([inverse_dic[y] for y in y_train])\n",
        "\n",
        "# entrenamos el modelo con early stopping\n",
        "callback = callbacks.EarlyStopping(monitor='loss', patience=3)\n",
        "training = model.fit(x=X_train, y=y_train, batch_size=256, \n",
        "                     epochs=100, shuffle=True, verbose=0, validation_split=0.3, callbacks=[callback])\n",
        "print(len(training.history['loss']))\n",
        "\n",
        "# plot loss and accuracy\n",
        "metrics = [k for k in training.history.keys() if (\"loss\" not in k) and (\"val\" not in k)]\n",
        "fig, ax = plt.subplots(nrows=1, ncols=2, sharey=True)\n",
        "\n",
        "ax[0].set(title=\"Training\")\n",
        "ax11 = ax[0].twinx()\n",
        "ax[0].plot(training.history['loss'], color='black')\n",
        "ax[0].set_xlabel('Epochs')\n",
        "ax[0].set_ylabel('Loss', color='black')\n",
        "for metric in metrics:\n",
        "  ax11.plot(training.history[metric], label=metric)\n",
        "ax11.set_ylabel(\"Score\", color='steelblue')\n",
        "ax11.legend()\n",
        "\n",
        "ax[1].set(title=\"Validation\")\n",
        "ax22 = ax[1].twinx()\n",
        "ax[1].plot(training.history['val_loss'], color='black')\n",
        "ax[1].set_xlabel('Epochs')\n",
        "ax[1].set_ylabel('Loss', color='black')\n",
        "for metric in metrics:\n",
        "  ax22.plot(training.history['val_'+metric], label=metric)\n",
        "ax22.set_ylabel(\"Score\", color=\"steelblue\")\n",
        "plt.show()"
      ]
    },
    {
      "cell_type": "code",
      "execution_count": null,
      "metadata": {
        "id": "z69cTk-F4Ru-"
      },
      "outputs": [],
      "source": [
        "# test\n",
        "predicted_prob = model.predict(X_test)\n",
        "predicted = [dic_y_mapping[np.argmax(pred)] for pred in \n",
        "             predicted_prob]"
      ]
    },
    {
      "cell_type": "code",
      "execution_count": null,
      "metadata": {
        "colab": {
          "base_uri": "https://localhost:8080/"
        },
        "id": "DDp-TpEe4ljs",
        "outputId": "922eb673-c9e3-4bb3-91b6-2451d900be13"
      },
      "outputs": [
        {
          "output_type": "stream",
          "name": "stdout",
          "text": [
            "['neutral', 'aliado', 'emergente', 'degradado', 'dependiente', 'degradado', 'emergente', 'marginal', 'independiente', 'marginal', 'emergente', 'degradado', 'adversario menor', 'marginal', 'emergente', 'emergente', 'marginal', 'marginal', 'barbaro', 'marginal', 'dependiente', 'emergente', 'emergente', 'marginal', 'emergente', 'emergente', 'cosmopolita', 'marginal', 'degradado', 'adversario menor', 'rival', 'dependiente', 'barbaro', 'emergente', 'adversario menor', 'dependiente', 'amigo', 'marginal', 'marginal', 'emergente', 'cosmopolita', 'marginal', 'emergente', 'emergente', 'barbaro', 'dependiente', 'marginal', 'marginal', 'independiente', 'marginal', 'emergente', 'exotico', 'marginal', 'barbaro', 'rival', 'exotico', 'barbaro', 'exotico', 'degradado', 'emergente', 'neutral', 'cosmopolita', 'cosmopolita', 'exotico', 'emergente', 'marginal', 'aliado', 'dependiente', 'marginal', 'emergente', 'marginal', 'marginal', 'marginal', 'emergente', 'degradado', 'emergente', 'dependiente', 'marginal', 'emergente', 'neutral', 'dependiente', 'marginal', 'marginal', 'neutral', 'marginal', 'aliado', 'dependiente', 'emergente', 'rival', 'amigo', 'dependiente', 'neutral', 'marginal', 'marginal', 'cosmopolita', 'barbaro', 'cosmopolita', 'barbaro', 'neutral', 'cosmopolita', 'marginal', 'emergente', 'barbaro', 'marginal', 'neutral', 'marginal', 'aliado', 'marginal', 'cooperante', 'amigo', 'rival', 'rival', 'aliado', 'marginal', 'emergente', 'rival', 'degradado', 'neutral', 'emergente', 'cosmopolita', 'marginal', 'marginal', 'marginal', 'marginal', 'dependiente', 'exotico', 'marginal', 'aliado', 'marginal', 'exotico', 'marginal', 'rival', 'dependiente', 'marginal', 'aliado', 'marginal', 'cosmopolita', 'dependiente', 'neutral', 'adversario menor', 'amigo', 'marginal', 'marginal', 'exotico', 'marginal', 'marginal', 'dependiente', 'amigo', 'emergente', 'cooperante', 'marginal', 'barbaro', 'marginal', 'emergente', 'neutral', 'neutral', 'dependiente', 'emergente', 'amigo', 'dependiente', 'marginal', 'neutral', 'emergente', 'marginal', 'marginal', 'marginal', 'dependiente', 'dependiente', 'dependiente', 'emergente', 'marginal', 'marginal', 'dependiente', 'emergente', 'neutral', 'marginal', 'degradado', 'barbaro', 'dependiente', 'aliado', 'marginal', 'exotico', 'emergente', 'dependiente', 'marginal', 'emergente', 'emergente', 'rival', 'aliado', 'dependiente', 'emergente', 'exotico', 'exotico', 'marginal', 'marginal', 'marginal', 'rival', 'emergente', 'exotico', 'emergente', 'marginal', 'cosmopolita', 'neutral', 'cosmopolita', 'rival', 'emergente', 'cosmopolita', 'emergente', 'neutral', 'aliado', 'marginal', 'independiente', 'marginal', 'emergente', 'barbaro', 'emergente', 'emergente', 'dependiente', 'barbaro', 'intervencionista', 'dependiente', 'exotico', 'marginal', 'marginal', 'marginal', 'marginal', 'marginal', 'marginal', 'exotico', 'exotico', 'marginal', 'marginal', 'aliado', 'aliado', 'dependiente', 'adversario menor', 'cosmopolita', 'marginal', 'dependiente', 'dependiente', 'amigo', 'barbaro', 'marginal', 'neutral', 'exotico', 'emergente', 'neutral', 'marginal', 'exotico', 'neutral', 'neutral', 'neutral', 'independiente', 'marginal', 'emergente', 'amigo', 'marginal', 'emergente', 'degradado', 'neutral', 'emergente', 'emergente', 'emergente', 'exotico', 'marginal', 'exotico', 'independiente', 'adversario menor', 'dependiente', 'amigo', 'emergente', 'exotico', 'cosmopolita', 'marginal', 'exotico', 'adversario menor', 'exotico', 'emergente', 'degradado', 'cosmopolita', 'barbaro', 'degradado', 'marginal', 'rival', 'amigo', 'marginal', 'dependiente', 'exotico', 'marginal', 'emergente', 'marginal', 'emergente', 'degradado', 'marginal', 'emergente', 'exotico', 'exotico', 'dependiente', 'exotico', 'barbaro', 'marginal', 'barbaro', 'marginal', 'exotico', 'marginal', 'dependiente', 'aliado', 'emergente', 'marginal', 'dependiente', 'marginal', 'exotico', 'degradado', 'barbaro', 'degradado', 'barbaro', 'emergente', 'emergente', 'marginal', 'marginal', 'emergente', 'marginal', 'degradado', 'dependiente', 'degradado', 'barbaro', 'marginal', 'emergente', 'barbaro', 'neutral', 'marginal', 'cosmopolita', 'marginal', 'dependiente', 'neutral', 'marginal', 'amigo', 'marginal', 'cosmopolita', 'cosmopolita', 'marginal', 'neutral', 'marginal', 'cosmopolita', 'exotico', 'emergente', 'amigo', 'marginal', 'amigo', 'marginal', 'emergente', 'cosmopolita', 'emergente', 'marginal', 'rival', 'marginal', 'exotico', 'exotico', 'cosmopolita', 'marginal', 'marginal', 'amigo', 'marginal', 'amigo', 'aliado', 'neutral', 'amigo', 'neutral', 'degradado', 'marginal', 'emergente', 'neutral', 'marginal', 'emergente', 'marginal', 'cosmopolita', 'aliado', 'neutral', 'emergente', 'marginal', 'marginal', 'dependiente', 'independiente', 'marginal', 'amigo', 'independiente', 'dependiente', 'marginal', 'exotico', 'emergente', 'emergente', 'marginal', 'marginal', 'adversario menor', 'marginal', 'marginal', 'exotico', 'marginal', 'cosmopolita', 'emergente', 'marginal', 'degradado', 'marginal', 'marginal', 'degradado', 'marginal', 'marginal', 'neutral', 'degradado', 'emergente', 'neutral', 'emergente', 'emergente', 'marginal', 'marginal', 'emergente', 'dependiente', 'exotico', 'marginal', 'emergente', 'marginal', 'marginal', 'exotico', 'barbaro', 'marginal', 'marginal', 'marginal', 'cosmopolita', 'exotico', 'emergente', 'aliado', 'marginal', 'emergente', 'neutral', 'dependiente', 'exotico', 'cosmopolita', 'cosmopolita', 'marginal', 'marginal', 'marginal', 'emergente', 'aliado', 'aliado', 'rival', 'dependiente', 'neutral', 'emergente', 'exotico', 'dependiente', 'independiente', 'aliado', 'dependiente', 'amigo', 'dependiente', 'marginal', 'marginal', 'rival', 'emergente', 'emergente', 'marginal', 'neutral', 'neutral', 'exotico', 'amigo', 'exotico', 'marginal', 'degradado', 'dependiente', 'dependiente', 'degradado', 'exotico', 'marginal', 'amigo', 'marginal', 'marginal', 'emergente', 'rival', 'adversario menor', 'marginal', 'aliado', 'dependiente', 'aliado', 'barbaro', 'degradado', 'marginal', 'marginal', 'exotico', 'emergente', 'dependiente', 'emergente', 'exotico', 'emergente', 'exotico', 'emergente', 'emergente', 'marginal', 'amigo', 'neutral', 'exotico', 'marginal', 'dependiente', 'cosmopolita', 'degradado', 'independiente', 'amigo', 'exotico', 'cosmopolita', 'emergente', 'marginal', 'emergente', 'emergente', 'rival', 'neutral', 'marginal', 'marginal', 'marginal', 'amigo', 'dependiente', 'emergente', 'rival', 'marginal', 'marginal', 'exotico', 'cosmopolita', 'exotico', 'neutral', 'dependiente', 'exotico', 'cosmopolita', 'dependiente', 'marginal', 'amigo', 'emergente', 'marginal', 'degradado', 'neutral', 'marginal', 'marginal', 'cosmopolita', 'marginal', 'marginal', 'emergente', 'emergente', 'marginal', 'adversario menor', 'exotico', 'barbaro', 'marginal', 'degradado', 'emergente', 'cosmopolita', 'degradado', 'exotico', 'amigo', 'marginal', 'exotico', 'marginal', 'dependiente', 'exotico', 'emergente', 'enemigo', 'cosmopolita', 'barbaro', 'emergente', 'dependiente', 'independiente', 'marginal', 'marginal', 'marginal', 'degradado', 'exotico', 'marginal', 'marginal', 'emergente', 'amigo', 'exotico', 'exotico', 'rival', 'marginal', 'emergente', 'barbaro', 'cosmopolita', 'marginal', 'emergente', 'aliado', 'emergente', 'marginal', 'aliado', 'emergente', 'amigo', 'barbaro', 'marginal', 'adversario menor', 'emergente', 'adversario menor', 'aliado', 'independiente', 'neutral', 'rival', 'aliado', 'emergente', 'barbaro', 'exotico', 'emergente', 'marginal', 'dependiente', 'amigo', 'exotico', 'marginal', 'neutral', 'adversario menor', 'aliado', 'emergente', 'marginal', 'emergente', 'marginal', 'adversario menor', 'rival', 'amigo', 'dependiente', 'cooperante', 'neutral', 'marginal', 'exotico', 'marginal', 'aliado', 'emergente', 'dependiente', 'marginal', 'degradado', 'rival', 'emergente', 'dependiente', 'emergente', 'neutral', 'emergente', 'cosmopolita', 'aliado', 'adversario menor', 'marginal', 'marginal', 'marginal', 'emergente', 'degradado', 'degradado', 'emergente', 'amigo', 'barbaro', 'cosmopolita', 'independiente', 'marginal', 'neutral', 'emergente', 'emergente', 'marginal', 'rival', 'amigo', 'emergente', 'adversario menor', 'amigo', 'marginal', 'degradado', 'marginal', 'adversario menor', 'barbaro', 'barbaro', 'emergente', 'marginal', 'marginal', 'neutral', 'emergente', 'dependiente', 'emergente', 'marginal', 'emergente', 'cosmopolita', 'emergente', 'emergente', 'emergente', 'neutral', 'emergente', 'marginal', 'exotico', 'adversario menor', 'marginal', 'exotico', 'marginal', 'marginal', 'emergente', 'emergente', 'amigo', 'dependiente', 'degradado', 'marginal', 'emergente', 'emergente', 'emergente', 'marginal', 'dependiente', 'marginal', 'degradado', 'neutral', 'dependiente', 'marginal', 'emergente', 'neutral', 'emergente', 'neutral', 'amigo', 'marginal', 'dependiente', 'marginal', 'emergente', 'marginal', 'exotico', 'emergente', 'cosmopolita', 'degradado', 'dependiente', 'aliado', 'neutral', 'emergente', 'cosmopolita', 'marginal', 'degradado', 'marginal', 'marginal', 'cosmopolita', 'adversario menor', 'emergente', 'dependiente', 'emergente', 'exotico', 'rival', 'dependiente', 'marginal', 'exotico', 'marginal', 'emergente', 'adversario menor', 'adversario menor', 'adversario menor', 'barbaro', 'marginal', 'exotico', 'neutral', 'marginal', 'marginal', 'barbaro', 'emergente', 'enemigo', 'exotico', 'degradado', 'marginal', 'dependiente', 'emergente', 'dependiente', 'marginal', 'emergente', 'marginal', 'barbaro', 'marginal', 'dependiente', 'marginal', 'barbaro', 'dependiente', 'marginal', 'rival', 'marginal', 'adversario menor', 'marginal', 'emergente', 'emergente', 'dependiente', 'marginal', 'cosmopolita', 'marginal', 'exotico', 'amigo', 'exotico', 'neutral', 'adversario menor', 'marginal', 'marginal', 'adversario menor', 'barbaro', 'aliado', 'degradado', 'amigo', 'amigo', 'exotico', 'marginal', 'exotico', 'amigo', 'dependiente', 'emergente', 'exotico', 'emergente', 'exotico', 'marginal', 'exotico', 'marginal', 'exotico', 'exotico', 'marginal', 'cosmopolita', 'marginal', 'marginal', 'degradado', 'marginal', 'aliado', 'marginal', 'emergente', 'marginal', 'cosmopolita', 'marginal', 'emergente', 'rival', 'degradado', 'marginal', 'dependiente', 'amigo', 'rival', 'emergente', 'amigo', 'emergente', 'neutral', 'marginal', 'emergente', 'degradado', 'marginal', 'dependiente', 'amigo', 'marginal', 'degradado', 'emergente', 'amigo', 'degradado', 'barbaro', 'emergente', 'marginal', 'marginal', 'barbaro', 'exotico', 'barbaro', 'amigo', 'marginal', 'aliado', 'degradado', 'exotico', 'cosmopolita', 'exotico', 'marginal', 'exotico', 'adversario menor', 'marginal', 'amigo', 'amigo', 'marginal', 'degradado', 'emergente', 'emergente', 'dependiente', 'marginal', 'aliado', 'marginal', 'marginal', 'emergente', 'rival', 'marginal', 'marginal', 'cosmopolita', 'exotico', 'emergente', 'marginal', 'adversario menor', 'marginal', 'neutral', 'marginal', 'exotico', 'marginal', 'exotico', 'amigo', 'exotico', 'dependiente', 'exotico', 'neutral', 'dependiente', 'emergente', 'emergente', 'emergente', 'marginal', 'marginal', 'emergente', 'degradado', 'barbaro', 'marginal', 'marginal', 'exotico', 'exotico', 'marginal', 'marginal', 'emergente', 'marginal', 'adversario menor', 'independiente', 'barbaro', 'exotico', 'emergente', 'exotico', 'degradado', 'amigo', 'emergente', 'barbaro', 'marginal', 'aliado', 'degradado', 'dependiente', 'barbaro', 'marginal', 'exotico', 'dependiente', 'marginal', 'dependiente', 'rival', 'emergente', 'marginal', 'marginal', 'emergente', 'adversario menor', 'dependiente', 'marginal', 'degradado', 'neutral', 'neutral', 'dependiente', 'emergente', 'neutral', 'emergente', 'emergente', 'exotico', 'dependiente', 'exotico', 'degradado', 'dependiente', 'dependiente', 'marginal', 'aliado', 'marginal', 'dependiente', 'barbaro', 'dependiente', 'marginal', 'emergente', 'adversario menor', 'emergente', 'degradado', 'degradado', 'neutral', 'marginal', 'exotico', 'marginal', 'aliado', 'dependiente', 'emergente', 'marginal', 'neutral', 'barbaro', 'degradado', 'barbaro', 'marginal', 'marginal', 'cosmopolita', 'adversario menor', 'aliado', 'marginal', 'exotico', 'marginal', 'exotico', 'marginal', 'dependiente', 'degradado', 'rival', 'cooperante', 'marginal', 'marginal', 'aliado', 'cosmopolita', 'marginal', 'dependiente', 'marginal', 'exotico', 'marginal', 'amigo', 'exotico', 'degradado', 'amigo', 'exotico', 'emergente', 'dependiente', 'dependiente', 'emergente', 'cosmopolita', 'degradado', 'dependiente', 'exotico', 'marginal', 'cosmopolita', 'marginal', 'dependiente', 'amigo', 'degradado', 'amigo', 'emergente', 'emergente', 'exotico', 'exotico', 'degradado', 'marginal', 'marginal', 'marginal', 'marginal', 'marginal', 'marginal', 'marginal', 'neutral', 'exotico', 'marginal', 'marginal', 'marginal', 'neutral', 'independiente', 'amigo', 'emergente', 'dependiente', 'barbaro', 'emergente', 'exotico', 'cosmopolita', 'amigo', 'exotico', 'cooperante', 'emergente', 'exotico', 'neutral', 'marginal', 'dependiente', 'rival', 'marginal', 'amigo', 'adversario menor', 'marginal', 'marginal', 'enemigo', 'neutral', 'barbaro', 'exotico', 'cosmopolita', 'barbaro', 'emergente', 'neutral', 'exotico', 'barbaro', 'dependiente', 'rival', 'amigo', 'exotico', 'exotico', 'aliado', 'neutral', 'emergente', 'cosmopolita', 'barbaro', 'cosmopolita', 'amigo', 'adversario menor', 'emergente', 'marginal', 'cosmopolita', 'cosmopolita', 'neutral', 'marginal', 'neutral', 'emergente', 'barbaro', 'emergente', 'emergente', 'marginal', 'exotico', 'neutral', 'cosmopolita', 'dependiente', 'emergente', 'barbaro', 'aliado', 'emergente', 'dependiente', 'emergente', 'neutral', 'emergente', 'rival', 'marginal', 'dependiente', 'independiente', 'exotico', 'emergente', 'adversario menor', 'marginal', 'exotico', 'marginal', 'amigo', 'dependiente', 'emergente', 'adversario menor', 'marginal', 'exotico', 'dependiente', 'emergente', 'emergente', 'dependiente', 'degradado', 'amigo', 'amigo', 'marginal', 'barbaro', 'neutral', 'marginal', 'marginal', 'emergente', 'cosmopolita', 'marginal', 'cosmopolita', 'amigo', 'exotico', 'adversario menor', 'marginal', 'rival', 'dependiente', 'marginal', 'marginal', 'marginal', 'marginal', 'rival', 'amigo', 'emergente', 'emergente', 'marginal', 'degradado', 'adversario menor', 'marginal', 'amigo', 'dependiente', 'marginal', 'cosmopolita', 'emergente', 'neutral', 'adversario menor', 'emergente', 'exotico', 'independiente', 'marginal', 'degradado', 'marginal', 'neutral', 'degradado', 'emergente', 'emergente', 'marginal', 'neutral', 'marginal', 'exotico', 'exotico', 'emergente', 'amigo', 'marginal', 'marginal', 'marginal', 'exotico', 'marginal', 'marginal', 'neutral', 'marginal', 'dependiente', 'neutral', 'amigo', 'marginal', 'marginal', 'barbaro', 'emergente', 'exotico', 'neutral', 'marginal', 'exotico', 'exotico', 'rival', 'marginal', 'emergente', 'emergente', 'marginal', 'dependiente', 'marginal', 'adversario menor', 'degradado', 'marginal', 'exotico', 'marginal', 'rival', 'emergente', 'marginal', 'emergente', 'emergente', 'emergente', 'barbaro', 'marginal', 'marginal', 'barbaro', 'cosmopolita', 'cosmopolita', 'emergente', 'cosmopolita', 'barbaro', 'emergente', 'degradado', 'rival', 'cosmopolita', 'marginal', 'marginal', 'marginal', 'marginal', 'emergente', 'exotico', 'amigo', 'marginal', 'cosmopolita', 'rival', 'emergente', 'emergente', 'rival', 'barbaro', 'amigo', 'neutral', 'emergente', 'marginal', 'cosmopolita', 'rival', 'emergente', 'emergente', 'marginal', 'dependiente', 'marginal', 'amigo', 'marginal', 'marginal', 'exotico', 'enemigo', 'marginal', 'emergente', 'adversario menor', 'marginal', 'emergente', 'marginal', 'emergente', 'marginal', 'cosmopolita', 'emergente', 'neutral', 'emergente', 'barbaro', 'rival', 'cosmopolita', 'emergente', 'neutral', 'exotico', 'neutral', 'marginal', 'neutral', 'emergente', 'cosmopolita', 'emergente', 'cosmopolita', 'exotico', 'degradado', 'marginal', 'exotico', 'rival', 'exotico', 'degradado', 'dependiente', 'exotico', 'marginal', 'emergente', 'emergente', 'exotico', 'marginal', 'dependiente', 'degradado', 'marginal', 'emergente', 'marginal', 'emergente', 'exotico', 'marginal', 'neutral', 'emergente', 'neutral', 'degradado', 'aliado', 'exotico', 'amigo', 'marginal', 'cosmopolita', 'cosmopolita', 'emergente', 'emergente', 'marginal', 'degradado', 'dependiente', 'marginal', 'exotico', 'emergente', 'dependiente', 'degradado', 'neutral', 'amigo', 'neutral', 'aliado', 'rival', 'emergente', 'exotico', 'marginal', 'exotico', 'marginal', 'exotico', 'emergente', 'amigo', 'marginal', 'marginal', 'marginal', 'marginal', 'degradado', 'dependiente', 'independiente', 'neutral', 'marginal', 'barbaro', 'aliado', 'exotico', 'emergente', 'marginal', 'neutral', 'marginal', 'cosmopolita', 'marginal', 'emergente', 'marginal', 'marginal', 'independiente', 'rival', 'exotico', 'marginal', 'dependiente', 'cosmopolita', 'emergente', 'emergente', 'rival', 'exotico', 'marginal', 'degradado', 'neutral', 'amigo', 'marginal', 'marginal', 'emergente', 'independiente', 'aliado', 'aliado', 'marginal', 'exotico', 'neutral', 'emergente', 'marginal', 'amigo', 'degradado', 'emergente', 'barbaro', 'marginal', 'marginal', 'emergente', 'exotico', 'neutral', 'marginal', 'aliado', 'rival', 'exotico', 'emergente', 'degradado', 'exotico', 'barbaro', 'barbaro', 'marginal', 'barbaro', 'marginal', 'emergente', 'marginal', 'exotico', 'exotico', 'emergente', 'cosmopolita', 'cosmopolita', 'emergente', 'dependiente', 'emergente', 'marginal', 'exotico', 'marginal', 'exotico', 'marginal', 'emergente', 'emergente', 'emergente', 'barbaro', 'amigo', 'neutral', 'degradado', 'marginal', 'marginal', 'dependiente', 'neutral', 'amigo', 'marginal', 'marginal', 'marginal', 'emergente', 'emergente', 'dependiente', 'cosmopolita', 'cosmopolita', 'marginal', 'barbaro', 'marginal', 'neutral', 'rival', 'emergente', 'neutral', 'emergente', 'emergente', 'amigo', 'dependiente', 'barbaro', 'neutral', 'dependiente', 'marginal', 'cosmopolita', 'barbaro', 'exotico', 'degradado', 'neutral', 'marginal', 'emergente', 'exotico', 'dependiente', 'aliado', 'exotico', 'cosmopolita', 'degradado', 'independiente', 'dependiente', 'independiente', 'aliado', 'adversario menor', 'exotico', 'amigo', 'neutral', 'barbaro', 'emergente', 'independiente', 'emergente', 'exotico', 'marginal', 'dependiente', 'emergente', 'adversario menor', 'marginal', 'cosmopolita', 'cosmopolita', 'exotico', 'emergente', 'amigo', 'neutral', 'marginal', 'amigo', 'independiente', 'marginal', 'cosmopolita', 'adversario menor', 'cosmopolita', 'cosmopolita', 'marginal', 'dependiente', 'independiente', 'degradado', 'marginal', 'emergente', 'amigo', 'neutral', 'dependiente', 'barbaro', 'emergente', 'cosmopolita', 'neutral', 'exotico', 'marginal', 'degradado', 'rival', 'exotico', 'cosmopolita', 'marginal', 'barbaro', 'marginal', 'degradado', 'exotico', 'emergente', 'exotico', 'emergente', 'marginal', 'degradado', 'emergente', 'marginal', 'marginal', 'marginal', 'emergente', 'exotico', 'adversario menor', 'exotico', 'dependiente', 'marginal', 'marginal', 'dependiente', 'emergente', 'exotico', 'marginal', 'marginal', 'marginal', 'aliado', 'cosmopolita', 'marginal', 'emergente', 'marginal', 'degradado', 'marginal', 'marginal', 'cosmopolita', 'exotico', 'marginal', 'exotico', 'dependiente', 'degradado', 'aliado', 'marginal', 'marginal', 'marginal', 'marginal', 'emergente', 'exotico', 'neutral', 'cosmopolita', 'exotico', 'marginal', 'barbaro', 'barbaro', 'neutral', 'marginal', 'amigo', 'emergente', 'marginal', 'dependiente', 'dependiente', 'marginal', 'emergente', 'exotico', 'enemigo', 'dependiente', 'emergente', 'barbaro', 'degradado', 'dependiente', 'emergente', 'dependiente', 'exotico', 'cosmopolita', 'dependiente', 'exotico', 'degradado', 'aliado', 'marginal', 'amigo', 'amigo', 'rival', 'emergente', 'barbaro', 'dependiente', 'exotico', 'degradado', 'emergente', 'barbaro', 'neutral', 'marginal', 'dependiente', 'emergente', 'marginal', 'marginal', 'barbaro', 'marginal', 'emergente', 'emergente', 'marginal', 'dependiente', 'dependiente', 'degradado', 'degradado', 'neutral', 'emergente', 'emergente', 'barbaro', 'marginal', 'marginal', 'marginal', 'marginal', 'amigo', 'dependiente', 'emergente', 'degradado', 'adversario menor', 'enemigo', 'barbaro', 'dependiente', 'aliado', 'emergente', 'degradado', 'amigo', 'exotico', 'amigo', 'emergente', 'emergente', 'amigo', 'aliado', 'exotico', 'neutral', 'exotico', 'marginal', 'emergente', 'dependiente', 'emergente', 'emergente', 'dependiente', 'cosmopolita', 'dependiente', 'amigo', 'marginal', 'dependiente', 'marginal', 'marginal', 'exotico', 'adversario menor', 'marginal', 'exotico', 'emergente', 'emergente', 'marginal', 'adversario menor', 'degradado', 'degradado', 'neutral', 'marginal', 'cosmopolita', 'marginal', 'marginal', 'amigo', 'marginal', 'neutral', 'cooperante', 'marginal', 'marginal', 'barbaro', 'marginal', 'marginal', 'marginal', 'emergente', 'exotico', 'dependiente', 'dependiente', 'amigo', 'exotico', 'marginal', 'amigo', 'marginal', 'marginal', 'marginal', 'neutral', 'marginal', 'rival', 'emergente', 'exotico', 'emergente', 'degradado', 'neutral', 'marginal', 'exotico', 'marginal', 'marginal', 'barbaro', 'rival', 'emergente', 'marginal', 'amigo', 'emergente', 'exotico', 'emergente', 'emergente', 'emergente', 'adversario menor', 'barbaro', 'marginal', 'marginal', 'rival', 'emergente', 'neutral', 'exotico', 'cosmopolita', 'marginal', 'independiente', 'rival', 'dependiente', 'barbaro', 'exotico', 'emergente', 'exotico', 'barbaro', 'marginal', 'neutral', 'emergente', 'cosmopolita', 'marginal', 'cosmopolita', 'exotico', 'marginal', 'marginal', 'emergente', 'marginal', 'aliado', 'amigo', 'dependiente', 'marginal', 'dependiente', 'marginal', 'degradado', 'marginal', 'marginal', 'emergente', 'exotico', 'marginal', 'neutral', 'marginal', 'marginal', 'marginal', 'exotico', 'marginal', 'marginal', 'emergente', 'marginal', 'aliado', 'exotico', 'marginal', 'marginal', 'exotico', 'amigo', 'emergente', 'emergente', 'adversario menor', 'marginal', 'marginal', 'marginal', 'degradado', 'marginal', 'adversario menor', 'dependiente', 'marginal', 'marginal', 'emergente', 'marginal', 'marginal', 'marginal', 'dependiente', 'emergente', 'degradado', 'marginal', 'marginal', 'degradado', 'aliado', 'marginal', 'exotico', 'emergente', 'rival', 'degradado', 'emergente', 'degradado', 'cosmopolita', 'marginal', 'marginal', 'exotico', 'degradado', 'neutral', 'rival', 'aliado', 'marginal', 'emergente', 'emergente', 'exotico', 'enemigo', 'marginal', 'amigo', 'adversario menor', 'neutral', 'marginal', 'marginal', 'marginal', 'dependiente', 'cosmopolita', 'adversario menor', 'emergente', 'marginal', 'exotico', 'barbaro', 'emergente', 'marginal', 'dependiente', 'marginal', 'marginal', 'marginal', 'marginal', 'marginal', 'cosmopolita', 'dependiente', 'marginal', 'marginal', 'exotico', 'dependiente', 'marginal', 'marginal', 'marginal', 'marginal', 'marginal', 'marginal', 'dependiente', 'emergente', 'marginal', 'adversario menor', 'exotico', 'exotico', 'dependiente', 'aliado', 'amigo', 'marginal', 'adversario menor', 'marginal', 'aliado', 'rival', 'exotico', 'emergente', 'marginal', 'barbaro', 'exotico', 'emergente', 'barbaro', 'emergente', 'exotico', 'marginal', 'marginal', 'marginal', 'marginal', 'emergente', 'amigo', 'neutral', 'marginal', 'degradado', 'marginal', 'neutral', 'dependiente', 'marginal', 'marginal', 'degradado', 'exotico', 'neutral', 'emergente', 'adversario menor', 'amigo', 'amigo', 'degradado', 'exotico', 'emergente', 'marginal', 'exotico', 'degradado', 'aliado', 'emergente', 'cosmopolita', 'dependiente', 'exotico', 'exotico', 'marginal', 'barbaro', 'marginal', 'marginal', 'cosmopolita', 'rival', 'emergente', 'rival', 'cosmopolita', 'rival', 'marginal', 'emergente', 'rival', 'neutral', 'dependiente', 'exotico', 'dependiente', 'rival', 'emergente', 'marginal', 'marginal', 'marginal', 'cosmopolita', 'adversario menor', 'amigo', 'exotico', 'marginal', 'marginal', 'aliado', 'marginal', 'exotico', 'dependiente', 'rival', 'aliado', 'barbaro', 'dependiente', 'emergente', 'emergente', 'neutral', 'dependiente', 'exotico', 'aliado', 'independiente', 'marginal', 'marginal', 'exotico', 'amigo', 'cosmopolita', 'marginal', 'marginal', 'neutral', 'emergente', 'emergente', 'marginal', 'barbaro', 'exotico', 'marginal', 'emergente', 'degradado', 'exotico', 'amigo', 'barbaro', 'barbaro', 'emergente', 'emergente', 'dependiente', 'emergente', 'emergente', 'marginal', 'neutral', 'marginal', 'marginal', 'dependiente', 'emergente', 'marginal', 'emergente', 'barbaro', 'rival', 'emergente', 'neutral', 'barbaro', 'rival', 'dependiente', 'marginal', 'degradado', 'emergente', 'dependiente', 'marginal', 'adversario menor', 'neutral', 'marginal', 'degradado', 'adversario menor', 'marginal', 'marginal', 'rival', 'cosmopolita', 'emergente', 'amigo', 'degradado', 'marginal', 'degradado', 'emergente', 'exotico', 'emergente', 'marginal', 'adversario menor', 'neutral', 'dependiente', 'marginal', 'neutral', 'amigo', 'marginal', 'emergente', 'marginal', 'dependiente', 'dependiente', 'marginal', 'marginal', 'marginal', 'marginal', 'marginal', 'amigo', 'marginal', 'dependiente', 'marginal', 'emergente', 'marginal', 'marginal', 'marginal', 'emergente', 'emergente', 'neutral', 'neutral', 'exotico', 'marginal', 'marginal', 'emergente', 'marginal', 'marginal', 'exotico', 'aliado', 'emergente', 'degradado', 'marginal', 'emergente', 'marginal', 'emergente', 'cosmopolita', 'exotico', 'rival', 'dependiente', 'marginal', 'rival', 'marginal', 'aliado', 'rival', 'degradado', 'emergente', 'degradado', 'exotico', 'marginal', 'emergente', 'dependiente', 'amigo', 'marginal', 'exotico', 'emergente', 'exotico', 'barbaro', 'dependiente', 'exotico', 'marginal', 'marginal', 'emergente', 'exotico', 'neutral', 'emergente', 'emergente', 'amigo', 'emergente', 'neutral', 'emergente', 'marginal', 'dependiente', 'marginal', 'degradado', 'degradado', 'emergente', 'emergente', 'degradado', 'emergente', 'marginal', 'marginal', 'degradado', 'exotico', 'aliado', 'exotico', 'emergente', 'barbaro', 'aliado', 'emergente', 'adversario menor', 'marginal', 'cosmopolita', 'emergente', 'rival', 'emergente', 'dependiente', 'adversario menor', 'adversario menor', 'degradado', 'dependiente', 'emergente', 'exotico', 'emergente', 'exotico', 'amigo', 'barbaro', 'emergente', 'adversario menor', 'dependiente', 'degradado', 'emergente', 'emergente', 'exotico', 'amigo', 'barbaro', 'neutral', 'exotico', 'cooperante', 'marginal', 'adversario menor', 'aliado', 'dependiente', 'dependiente', 'dependiente', 'emergente', 'amigo', 'marginal', 'cosmopolita', 'neutral', 'degradado', 'marginal', 'emergente', 'marginal', 'neutral', 'emergente', 'emergente', 'marginal', 'dependiente', 'marginal', 'emergente', 'barbaro', 'emergente', 'marginal', 'cosmopolita', 'degradado', 'emergente', 'degradado', 'neutral', 'adversario menor', 'independiente', 'marginal', 'barbaro', 'neutral', 'emergente', 'neutral', 'marginal', 'rival', 'marginal', 'marginal', 'cosmopolita', 'degradado', 'adversario menor', 'emergente', 'marginal', 'emergente', 'emergente', 'emergente', 'exotico', 'marginal', 'neutral', 'dependiente', 'marginal', 'aliado', 'dependiente', 'marginal', 'exotico', 'cosmopolita', 'independiente', 'degradado', 'emergente', 'barbaro', 'emergente', 'barbaro', 'neutral', 'marginal', 'exotico', 'exotico', 'exotico', 'exotico', 'marginal', 'exotico', 'marginal', 'exotico', 'exotico', 'neutral', 'marginal', 'exotico', 'barbaro', 'barbaro', 'marginal', 'rival', 'amigo', 'exotico', 'cosmopolita', 'marginal', 'marginal', 'emergente', 'cosmopolita', 'barbaro', 'marginal', 'marginal', 'dependiente', 'exotico', 'marginal', 'dependiente', 'emergente', 'marginal', 'aliado', 'barbaro', 'adversario menor', 'emergente', 'marginal', 'dependiente', 'neutral', 'marginal', 'exotico', 'marginal', 'emergente', 'marginal', 'aliado', 'cosmopolita', 'marginal', 'neutral', 'emergente', 'independiente', 'amigo', 'marginal', 'barbaro', 'barbaro', 'emergente', 'exotico', 'dependiente', 'exotico', 'amigo', 'emergente', 'cosmopolita', 'marginal', 'marginal', 'aliado', 'barbaro', 'dependiente', 'exotico', 'emergente', 'dependiente', 'exotico', 'marginal', 'marginal', 'marginal', 'marginal', 'dependiente', 'neutral', 'amigo', 'barbaro', 'exotico', 'marginal', 'cosmopolita', 'marginal', 'amigo', 'marginal', 'marginal', 'neutral', 'marginal', 'degradado', 'amigo', 'marginal', 'dependiente', 'marginal', 'marginal', 'independiente', 'emergente', 'emergente', 'emergente', 'marginal', 'marginal', 'marginal', 'adversario menor', 'exotico', 'marginal', 'emergente', 'emergente', 'exotico', 'marginal', 'neutral', 'exotico', 'emergente', 'emergente', 'exotico', 'degradado', 'marginal', 'marginal', 'marginal', 'dependiente', 'marginal', 'rival', 'marginal', 'emergente', 'marginal', 'emergente', 'neutral']\n"
          ]
        }
      ],
      "source": [
        "print(predicted)"
      ]
    },
    {
      "cell_type": "code",
      "execution_count": null,
      "metadata": {
        "id": "VBuI8kRaCrFW"
      },
      "outputs": [],
      "source": [
        "def plot2_confusion_matrix(cm, classes, normalize=False, title='Confusion matrix', cmap=plt.cm.Blues):\n",
        "\t\"\"\"\n",
        "\tThis function prints and plots the confusion matrix.\n",
        "\tNormalization can be applied by setting `normalize=True`.\n",
        "\t\"\"\"\n",
        "\tif normalize:\n",
        "\t\tcm = cm.astype('float') / cm.sum(axis=1)[:, np.newaxis]\n",
        "\t\tprint(\"Normalized confusion matrix\")\n",
        "\telse:\n",
        "\t\tprint('Confusion matrix, without normalization')\n",
        "\n",
        "\tprint(cm)\n",
        "\n",
        "\tplt.imshow(cm, interpolation='nearest', cmap=cmap, aspect='auto')\n",
        "\tplt.title(title)\n",
        "\tplt.colorbar()\n",
        "\ttick_marks = np.arange(len(classes))\n",
        "\tplt.xticks(tick_marks, classes, rotation=45)\n",
        "\tplt.yticks(tick_marks, classes)\n",
        "\n",
        "\tfmt = '.1f' if normalize else 'd'\n",
        "\tthresh = cm.max() / 2.\n",
        "\tfor i, j in itertools.product(range(cm.shape[0]), range(cm.shape[1])):\n",
        "\t\tplt.text(j, i, format(cm[i, j], fmt),horizontalalignment=\"center\", color=\"white\" if cm[i, j] > thresh else \"black\")\n",
        "\t\n",
        "\t#plt.tight_layout()\n",
        "\tplt.ylabel('Clase correcta')\n",
        "\tplt.xlabel('Clase predicha')"
      ]
    },
    {
      "cell_type": "code",
      "source": [
        "print(type(y_test))\n",
        "print(type(predicted))"
      ],
      "metadata": {
        "colab": {
          "base_uri": "https://localhost:8080/"
        },
        "id": "UDf2iwyEonX-",
        "outputId": "3e14d2de-2afe-41c4-a0c9-6c6a5a0fa0a0"
      },
      "execution_count": null,
      "outputs": [
        {
          "output_type": "stream",
          "name": "stdout",
          "text": [
            "<class 'numpy.ndarray'>\n",
            "<class 'list'>\n"
          ]
        }
      ]
    },
    {
      "cell_type": "code",
      "execution_count": null,
      "metadata": {
        "colab": {
          "base_uri": "https://localhost:8080/",
          "height": 244
        },
        "id": "OAAFqyJ14a7A",
        "outputId": "46641268-4f33-4016-b3e5-6c7f469942b5"
      },
      "outputs": [
        {
          "output_type": "error",
          "ename": "AttributeError",
          "evalue": "ignored",
          "traceback": [
            "\u001b[0;31m---------------------------------------------------------------------------\u001b[0m",
            "\u001b[0;31mAttributeError\u001b[0m                            Traceback (most recent call last)",
            "\u001b[0;32m<ipython-input-27-b3ba5df2f5ae>\u001b[0m in \u001b[0;36m<module>\u001b[0;34m()\u001b[0m\n\u001b[1;32m      3\u001b[0m \u001b[0;34m\u001b[0m\u001b[0m\n\u001b[1;32m      4\u001b[0m \u001b[0;31m# Accuracy, Precision, Recall\u001b[0m\u001b[0;34m\u001b[0m\u001b[0;34m\u001b[0m\u001b[0;34m\u001b[0m\u001b[0m\n\u001b[0;32m----> 5\u001b[0;31m \u001b[0maccuracy\u001b[0m \u001b[0;34m=\u001b[0m \u001b[0mmetrics\u001b[0m\u001b[0;34m.\u001b[0m\u001b[0maccuracy_score\u001b[0m\u001b[0;34m(\u001b[0m\u001b[0my_test\u001b[0m\u001b[0;34m,\u001b[0m \u001b[0mnp\u001b[0m\u001b[0;34m.\u001b[0m\u001b[0marray\u001b[0m\u001b[0;34m(\u001b[0m\u001b[0mpredicted\u001b[0m\u001b[0;34m)\u001b[0m\u001b[0;34m)\u001b[0m\u001b[0;34m\u001b[0m\u001b[0;34m\u001b[0m\u001b[0m\n\u001b[0m\u001b[1;32m      6\u001b[0m \u001b[0;31m# auc = metrics.roc_auc_score(y_test, predicted_prob, multi_class=\"ovr\")\u001b[0m\u001b[0;34m\u001b[0m\u001b[0;34m\u001b[0m\u001b[0;34m\u001b[0m\u001b[0m\n\u001b[1;32m      7\u001b[0m \u001b[0mprint\u001b[0m\u001b[0;34m(\u001b[0m\u001b[0;34m\"Accuracy:\"\u001b[0m\u001b[0;34m,\u001b[0m  \u001b[0mround\u001b[0m\u001b[0;34m(\u001b[0m\u001b[0maccuracy\u001b[0m\u001b[0;34m,\u001b[0m\u001b[0;36m2\u001b[0m\u001b[0;34m)\u001b[0m\u001b[0;34m)\u001b[0m\u001b[0;34m\u001b[0m\u001b[0;34m\u001b[0m\u001b[0m\n",
            "\u001b[0;31mAttributeError\u001b[0m: 'list' object has no attribute 'accuracy_score'"
          ]
        }
      ],
      "source": [
        "classes = np.unique(y_test)\n",
        "y_test_array = pd.get_dummies(y_test, drop_first=False).values\n",
        "\n",
        "# Accuracy, Precision, Recall\n",
        "accuracy = metrics.accuracy_score(y_test, np.array(predicted))\n",
        "# auc = metrics.roc_auc_score(y_test, predicted_prob, multi_class=\"ovr\")\n",
        "print(\"Accuracy:\",  round(accuracy,2))\n",
        "# print(\"Auc:\", round(auc,2))\n",
        "print(\"Detail:\")\n",
        "print(metrics.classification_report(y_test, predicted))\n",
        "    \n",
        "# Plot confusion matrix\n",
        "cm = metrics.confusion_matrix(y_test, predicted)\n",
        "# fig, ax = plt.subplots()\n",
        "# sns.heatmap(cm, annot=True, fmt='d', ax=ax, cmap=plt.cm.Blues, cbar=False)\n",
        "# ax.set(xlabel=\"Pred\", ylabel=\"True\", xticklabels=classes, yticklabels=classes, title=\"Confusion matrix\")\n",
        "# plt.yticks(rotation=0)\n",
        "\n",
        "plot2_confusion_matrix(cm, classes)\n",
        "\n",
        "\n",
        "fig, ax = plt.subplots(nrows=1, ncols=2)\n",
        "# Plot roc\n",
        "for i in range(len(classes)):\n",
        "  fpr, tpr, thresholds = metrics.roc_curve(y_test_array[:,i], predicted_prob[:,i])\n",
        "  ax[0].plot(fpr, tpr, lw=3, label='{0} (area={1:0.2f})'.format(classes[i], metrics.auc(fpr, tpr)))\n",
        "\n",
        "ax[0].plot([0,1], [0,1], color='navy', lw=3, linestyle='--')\n",
        "ax[0].set(xlim=[-0.05,1.0], ylim=[0.0,1.05], \n",
        "          xlabel='False Positive Rate', \n",
        "          ylabel=\"True Positive Rate (Recall)\", \n",
        "          title=\"Receiver operating characteristic\")\n",
        "\n",
        "ax[0].legend(loc=\"lower right\")\n",
        "ax[0].grid(True)\n",
        "    \n",
        "# Plot precision-recall curve\n",
        "for i in range(len(classes)):\n",
        "  precision, recall, thresholds = metrics.precision_recall_curve(\n",
        "                 y_test_array[:,i], predicted_prob[:,i])\n",
        "  ax[1].plot(recall, precision, lw=3, \n",
        "               label='{0} (area={1:0.2f})'.format(classes[i], \n",
        "                                  metrics.auc(recall, precision)))\n",
        "ax[1].set(xlim=[0.0,1.05], ylim=[0.0,1.05], xlabel='Recall', \n",
        "          ylabel=\"Precision\", title=\"Precision-Recall curve\")\n",
        "ax[1].legend(loc=\"best\")\n",
        "ax[1].grid(True)\n",
        "plt.show()"
      ]
    }
  ]
}