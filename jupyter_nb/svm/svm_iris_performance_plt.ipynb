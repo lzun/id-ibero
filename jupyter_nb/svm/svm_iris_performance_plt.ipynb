{
  "nbformat": 4,
  "nbformat_minor": 0,
  "metadata": {
    "colab": {
      "name": "svm_iris_performance_plt.ipynb",
      "provenance": []
    },
    "kernelspec": {
      "name": "python3",
      "display_name": "Python 3"
    },
    "language_info": {
      "name": "python"
    }
  },
  "cells": [
    {
      "cell_type": "code",
      "execution_count": null,
      "metadata": {
        "id": "Ttme8SjjzJ0r"
      },
      "outputs": [],
      "source": [
        "from sklearn import datasets, svm\n",
        "import numpy as np\n",
        "import matplotlib.pyplot as plt\n",
        "from sklearn.model_selection import train_test_split\n",
        "from sklearn.metrics import recall_score, f1_score, accuracy_score, precision_score"
      ]
    },
    {
      "cell_type": "code",
      "source": [
        "iris = datasets.load_iris()"
      ],
      "metadata": {
        "id": "Im7BZ8KwzWkM"
      },
      "execution_count": null,
      "outputs": []
    },
    {
      "cell_type": "code",
      "source": [
        "list(iris.keys())"
      ],
      "metadata": {
        "colab": {
          "base_uri": "https://localhost:8080/"
        },
        "id": "1CRUSoBUzgPk",
        "outputId": "0857f20d-3083-495c-dbc5-370cbfae61bf"
      },
      "execution_count": null,
      "outputs": [
        {
          "output_type": "execute_result",
          "data": {
            "text/plain": [
              "['data',\n",
              " 'target',\n",
              " 'frame',\n",
              " 'target_names',\n",
              " 'DESCR',\n",
              " 'feature_names',\n",
              " 'filename',\n",
              " 'data_module']"
            ]
          },
          "metadata": {},
          "execution_count": 6
        }
      ]
    },
    {
      "cell_type": "code",
      "source": [
        "print(iris['data'])\n",
        "print(iris['target'])"
      ],
      "metadata": {
        "id": "WfSdcVNMznnK"
      },
      "execution_count": null,
      "outputs": []
    },
    {
      "cell_type": "code",
      "source": [
        "X_train, X_test, y_train, y_test = train_test_split(iris['data'], iris['target'], test_size = 0.2)\n",
        "train_errors, test_errors = [], []"
      ],
      "metadata": {
        "id": "7OPBmcug0eSc"
      },
      "execution_count": null,
      "outputs": []
    },
    {
      "cell_type": "code",
      "source": [
        "clf = svm.SVC(kernel='linear', C=1)"
      ],
      "metadata": {
        "id": "l000FBlJzCkb"
      },
      "execution_count": null,
      "outputs": []
    },
    {
      "cell_type": "code",
      "source": [
        "for x in range(10,len(iris['data'])):\n",
        "  clf.fit(X_train[:x], y_train[:x])\n",
        "  y_train_predict = clf.predict(X_train[:x])\n",
        "  y_test_predict = clf.predict(X_test[:x])\n",
        "  train_errors.append(accuracy_score(y_train[:x], y_train_predict))\n",
        "  test_errors.append(accuracy_score(y_test[:x],y_test_predict))"
      ],
      "metadata": {
        "id": "D3THO26Pzzjl"
      },
      "execution_count": null,
      "outputs": []
    },
    {
      "cell_type": "code",
      "source": [
        "plt.plot(train_errors,'r-', linewidth=2, label='train')\n",
        "plt.plot(test_errors, 'b-', linewidth=2, label='test')\n",
        "plt.legend()"
      ],
      "metadata": {
        "colab": {
          "base_uri": "https://localhost:8080/",
          "height": 283
        },
        "id": "CPc5M72w3EFn",
        "outputId": "82a64ce6-a777-4fd1-9cc5-fa2d25aa54fd"
      },
      "execution_count": null,
      "outputs": [
        {
          "output_type": "execute_result",
          "data": {
            "text/plain": [
              "<matplotlib.legend.Legend at 0x7f3b91eee350>"
            ]
          },
          "metadata": {},
          "execution_count": 20
        },
        {
          "output_type": "display_data",
          "data": {
            "image/png": "[encoded data removed]",
            "text/plain": [
              "<Figure size 432x288 with 1 Axes>"
            ]
          },
          "metadata": {
            "needs_background": "light"
          }
        }
      ]
    }
  ]
}